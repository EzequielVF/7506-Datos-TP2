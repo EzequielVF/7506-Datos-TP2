{
 "cells": [
  {
   "cell_type": "code",
   "execution_count": 376,
   "metadata": {},
   "outputs": [],
   "source": [
    "import pandas as pd\n",
    "import numpy as np\n",
    "import warnings\n",
    "warnings.filterwarnings(\"ignore\")\n",
    "import lightgbm as lgb\n",
    "from sklearn.model_selection import train_test_split\n",
    "from sklearn.metrics import mean_squared_error,roc_auc_score,precision_score"
   ]
  },
  {
   "cell_type": "code",
   "execution_count": 377,
   "metadata": {},
   "outputs": [],
   "source": [
    "train_values = pd.read_csv('../Archivos de datos/train_values.csv')\n",
    "train_labels = pd.read_csv('../Archivos de datos/train_labels.csv')\n",
    "test_values  = pd.read_csv('../Archivos de datos/test_values.csv')"
   ]
  },
  {
   "cell_type": "code",
   "execution_count": 378,
   "metadata": {},
   "outputs": [
    {
     "data": {
      "text/html": [
       "<div>\n",
       "<style scoped>\n",
       "    .dataframe tbody tr th:only-of-type {\n",
       "        vertical-align: middle;\n",
       "    }\n",
       "\n",
       "    .dataframe tbody tr th {\n",
       "        vertical-align: top;\n",
       "    }\n",
       "\n",
       "    .dataframe thead th {\n",
       "        text-align: right;\n",
       "    }\n",
       "</style>\n",
       "<table border=\"1\" class=\"dataframe\">\n",
       "  <thead>\n",
       "    <tr style=\"text-align: right;\">\n",
       "      <th></th>\n",
       "      <th>building_id</th>\n",
       "      <th>geo_level_1_id</th>\n",
       "      <th>geo_level_2_id</th>\n",
       "      <th>geo_level_3_id</th>\n",
       "      <th>count_floors_pre_eq</th>\n",
       "      <th>age</th>\n",
       "      <th>area_percentage</th>\n",
       "      <th>height_percentage</th>\n",
       "      <th>land_surface_condition</th>\n",
       "      <th>foundation_type</th>\n",
       "      <th>...</th>\n",
       "      <th>has_secondary_use_agriculture</th>\n",
       "      <th>has_secondary_use_hotel</th>\n",
       "      <th>has_secondary_use_rental</th>\n",
       "      <th>has_secondary_use_institution</th>\n",
       "      <th>has_secondary_use_school</th>\n",
       "      <th>has_secondary_use_industry</th>\n",
       "      <th>has_secondary_use_health_post</th>\n",
       "      <th>has_secondary_use_gov_office</th>\n",
       "      <th>has_secondary_use_use_police</th>\n",
       "      <th>has_secondary_use_other</th>\n",
       "    </tr>\n",
       "  </thead>\n",
       "  <tbody>\n",
       "    <tr>\n",
       "      <th>0</th>\n",
       "      <td>802906</td>\n",
       "      <td>6</td>\n",
       "      <td>487</td>\n",
       "      <td>12198</td>\n",
       "      <td>2</td>\n",
       "      <td>30</td>\n",
       "      <td>6</td>\n",
       "      <td>5</td>\n",
       "      <td>t</td>\n",
       "      <td>r</td>\n",
       "      <td>...</td>\n",
       "      <td>0</td>\n",
       "      <td>0</td>\n",
       "      <td>0</td>\n",
       "      <td>0</td>\n",
       "      <td>0</td>\n",
       "      <td>0</td>\n",
       "      <td>0</td>\n",
       "      <td>0</td>\n",
       "      <td>0</td>\n",
       "      <td>0</td>\n",
       "    </tr>\n",
       "    <tr>\n",
       "      <th>1</th>\n",
       "      <td>28830</td>\n",
       "      <td>8</td>\n",
       "      <td>900</td>\n",
       "      <td>2812</td>\n",
       "      <td>2</td>\n",
       "      <td>10</td>\n",
       "      <td>8</td>\n",
       "      <td>7</td>\n",
       "      <td>o</td>\n",
       "      <td>r</td>\n",
       "      <td>...</td>\n",
       "      <td>0</td>\n",
       "      <td>0</td>\n",
       "      <td>0</td>\n",
       "      <td>0</td>\n",
       "      <td>0</td>\n",
       "      <td>0</td>\n",
       "      <td>0</td>\n",
       "      <td>0</td>\n",
       "      <td>0</td>\n",
       "      <td>0</td>\n",
       "    </tr>\n",
       "  </tbody>\n",
       "</table>\n",
       "<p>2 rows × 39 columns</p>\n",
       "</div>"
      ],
      "text/plain": [
       "   building_id  geo_level_1_id  geo_level_2_id  geo_level_3_id  \\\n",
       "0       802906               6             487           12198   \n",
       "1        28830               8             900            2812   \n",
       "\n",
       "   count_floors_pre_eq  age  area_percentage  height_percentage  \\\n",
       "0                    2   30                6                  5   \n",
       "1                    2   10                8                  7   \n",
       "\n",
       "  land_surface_condition foundation_type           ...             \\\n",
       "0                      t               r           ...              \n",
       "1                      o               r           ...              \n",
       "\n",
       "  has_secondary_use_agriculture has_secondary_use_hotel  \\\n",
       "0                             0                       0   \n",
       "1                             0                       0   \n",
       "\n",
       "  has_secondary_use_rental has_secondary_use_institution  \\\n",
       "0                        0                             0   \n",
       "1                        0                             0   \n",
       "\n",
       "  has_secondary_use_school  has_secondary_use_industry  \\\n",
       "0                        0                           0   \n",
       "1                        0                           0   \n",
       "\n",
       "   has_secondary_use_health_post  has_secondary_use_gov_office  \\\n",
       "0                              0                             0   \n",
       "1                              0                             0   \n",
       "\n",
       "   has_secondary_use_use_police  has_secondary_use_other  \n",
       "0                             0                        0  \n",
       "1                             0                        0  \n",
       "\n",
       "[2 rows x 39 columns]"
      ]
     },
     "execution_count": 378,
     "metadata": {},
     "output_type": "execute_result"
    }
   ],
   "source": [
    "train_values.head(2)"
   ]
  },
  {
   "cell_type": "code",
   "execution_count": 379,
   "metadata": {},
   "outputs": [],
   "source": [
    "train = train_values.merge(train_labels)\n",
    "label=train.damage_grade\n",
    "\n",
    "#'has_secondary_use',\n",
    "#             'has_secondary_use_agriculture','has_secondary_use_hotel','has_secondary_use_rental',\n",
    "#             'has_secondary_use_institution','has_secondary_use_school','has_secondary_use_industry',\n",
    "#             'has_secondary_use_health_post','has_secondary_use_gov_office',\n",
    "#             'has_secondary_use_use_police','has_secondary_use_other',\n",
    "#,'has_superstructure_adobe_mud',\n",
    "#             'has_superstructure_mud_mortar_stone','has_superstructure_stone_flag',\n",
    "#             'has_superstructure_cement_mortar_stone','has_superstructure_mud_mortar_brick',\n",
    "#             'has_superstructure_cement_mortar_brick','has_superstructure_timber',\n",
    "#             'has_superstructure_bamboo','has_superstructure_rc_non_engineered',\n",
    "#             'has_superstructure_rc_engineered','has_superstructure_other',\n",
    "train=train[['geo_level_1_id','geo_level_2_id','geo_level_3_id',\n",
    "             \n",
    "             'land_surface_condition','foundation_type','ground_floor_type','age','plan_configuration',\n",
    "             'height_percentage','roof_type','other_floor_type','position']]"
   ]
  },
  {
   "cell_type": "code",
   "execution_count": 380,
   "metadata": {},
   "outputs": [],
   "source": [
    "p=pd.get_dummies(train.position)\n",
    "p_columns = p.columns\n",
    "p_columns=np.array(p_columns)"
   ]
  },
  {
   "cell_type": "code",
   "execution_count": 381,
   "metadata": {},
   "outputs": [],
   "source": [
    "def position(p_columns):\n",
    "    y=[]\n",
    "    for i in p_columns:\n",
    "        y.append('position_' + str(i))\n",
    "    return y"
   ]
  },
  {
   "cell_type": "code",
   "execution_count": 382,
   "metadata": {},
   "outputs": [],
   "source": [
    "p.columns=surface(p_columns)\n",
    "train[p.columns]=p\n",
    "train=train.drop(columns = ['position'])"
   ]
  },
  {
   "cell_type": "code",
   "execution_count": 383,
   "metadata": {},
   "outputs": [],
   "source": [
    "oft=pd.get_dummies(train.other_floor_type)\n",
    "oft_columns = oft.columns\n",
    "oft_columns=np.array(oft_columns)"
   ]
  },
  {
   "cell_type": "code",
   "execution_count": 384,
   "metadata": {},
   "outputs": [],
   "source": [
    "def other_floor_type(oft_columns):\n",
    "    y=[]\n",
    "    for i in rt_columns:\n",
    "        y.append('other_floor_type_' + str(i))\n",
    "    return y"
   ]
  },
  {
   "cell_type": "code",
   "execution_count": 385,
   "metadata": {},
   "outputs": [],
   "source": [
    "oft.columns=surface(oft_columns)\n",
    "train[oft.columns]=oft\n",
    "train=train.drop(columns = ['other_floor_type'])"
   ]
  },
  {
   "cell_type": "code",
   "execution_count": 386,
   "metadata": {},
   "outputs": [],
   "source": [
    "rt=pd.get_dummies(train.roof_type)\n",
    "rt_columns = rt.columns\n",
    "rt_columns=np.array(rt_columns)"
   ]
  },
  {
   "cell_type": "code",
   "execution_count": 387,
   "metadata": {},
   "outputs": [],
   "source": [
    "def roof_type(rt_columns):\n",
    "    y=[]\n",
    "    for i in rt_columns:\n",
    "        y.append('roof_type_' + str(i))\n",
    "    return y"
   ]
  },
  {
   "cell_type": "code",
   "execution_count": 388,
   "metadata": {},
   "outputs": [],
   "source": [
    "rt.columns=surface(rt_columns)\n",
    "train[rt.columns]=rt\n",
    "train=train.drop(columns = ['roof_type'])"
   ]
  },
  {
   "cell_type": "code",
   "execution_count": 389,
   "metadata": {},
   "outputs": [],
   "source": [
    "pc=pd.get_dummies(train.plan_configuration)\n",
    "pc_columns = pc.columns\n",
    "pc_columns=np.array(pc_columns)"
   ]
  },
  {
   "cell_type": "code",
   "execution_count": 390,
   "metadata": {},
   "outputs": [],
   "source": [
    "def plan_configuration(pc_columns):\n",
    "    y=[]\n",
    "    for i in pc_columns:\n",
    "        y.append('plan_configuration_' + str(i))\n",
    "    return y"
   ]
  },
  {
   "cell_type": "code",
   "execution_count": 391,
   "metadata": {},
   "outputs": [],
   "source": [
    "pc.columns=surface(pc_columns)\n",
    "train[pc.columns]=pc\n",
    "train=train.drop(columns = ['plan_configuration'])"
   ]
  },
  {
   "cell_type": "code",
   "execution_count": 392,
   "metadata": {},
   "outputs": [],
   "source": [
    "x=pd.get_dummies(train.land_surface_condition)\n",
    "x_columns = x.columns\n",
    "x_columns=np.array(x_columns)"
   ]
  },
  {
   "cell_type": "code",
   "execution_count": 393,
   "metadata": {},
   "outputs": [],
   "source": [
    "def surface(x_columns):\n",
    "    y=[]\n",
    "    for i in x_columns:\n",
    "        y.append('land_surface_condition_' + str(i))\n",
    "    return y"
   ]
  },
  {
   "cell_type": "code",
   "execution_count": 394,
   "metadata": {},
   "outputs": [],
   "source": [
    "x.columns=surface(x_columns)\n",
    "train[x.columns]=x\n",
    "train=train.drop(columns = ['land_surface_condition'])"
   ]
  },
  {
   "cell_type": "code",
   "execution_count": 395,
   "metadata": {},
   "outputs": [],
   "source": [
    "z=pd.get_dummies(train.foundation_type)\n",
    "z_columns = z.columns\n",
    "z_columns=np.array(z_columns)"
   ]
  },
  {
   "cell_type": "code",
   "execution_count": 396,
   "metadata": {},
   "outputs": [],
   "source": [
    "def foundation(x_columns):\n",
    "    y=[]\n",
    "    for i in x_columns:\n",
    "        y.append('foundation_type_' + str(i))\n",
    "    return y"
   ]
  },
  {
   "cell_type": "code",
   "execution_count": 397,
   "metadata": {},
   "outputs": [],
   "source": [
    "z.columns=foundation(z_columns)\n",
    "train[z.columns]=z\n",
    "train=train.drop(columns = ['foundation_type'])"
   ]
  },
  {
   "cell_type": "code",
   "execution_count": 398,
   "metadata": {},
   "outputs": [],
   "source": [
    "g=pd.get_dummies(train.geo_level_1_id)\n",
    "g_columns = g.columns\n",
    "g_columns=np.array(g_columns)"
   ]
  },
  {
   "cell_type": "code",
   "execution_count": 399,
   "metadata": {},
   "outputs": [],
   "source": [
    "def geo_level_1(g_columns):\n",
    "    y=[]\n",
    "    for i in g_columns:\n",
    "        y.append('geo_level_1_id_' + str(i))\n",
    "    return y"
   ]
  },
  {
   "cell_type": "code",
   "execution_count": 400,
   "metadata": {},
   "outputs": [],
   "source": [
    "g.columns=foundation(g_columns)\n",
    "train[g.columns]=g\n",
    "train=train.drop(columns = ['geo_level_1_id'])"
   ]
  },
  {
   "cell_type": "code",
   "execution_count": 401,
   "metadata": {},
   "outputs": [],
   "source": [
    "gf=pd.get_dummies(train.ground_floor_type)\n",
    "gf_columns = gf.columns\n",
    "gf_columns=np.array(gf_columns)"
   ]
  },
  {
   "cell_type": "code",
   "execution_count": 402,
   "metadata": {},
   "outputs": [],
   "source": [
    "def ground_floor_type(gf_columns):\n",
    "    y=[]\n",
    "    for i in gf_columns:\n",
    "        y.append('ground_floor_type_' + str(i))\n",
    "    return y"
   ]
  },
  {
   "cell_type": "code",
   "execution_count": 403,
   "metadata": {},
   "outputs": [
    {
     "data": {
      "text/plain": [
       "['ground_floor_type_f',\n",
       " 'ground_floor_type_m',\n",
       " 'ground_floor_type_v',\n",
       " 'ground_floor_type_x',\n",
       " 'ground_floor_type_z']"
      ]
     },
     "execution_count": 403,
     "metadata": {},
     "output_type": "execute_result"
    }
   ],
   "source": [
    " ground_floor_type(gf_columns)"
   ]
  },
  {
   "cell_type": "code",
   "execution_count": 404,
   "metadata": {},
   "outputs": [],
   "source": [
    "gf.columns=ground_floor_type(gf_columns)\n",
    "train[gf.columns]=gf\n",
    "train=train.drop(columns = ['ground_floor_type'])"
   ]
  },
  {
   "cell_type": "code",
   "execution_count": 405,
   "metadata": {},
   "outputs": [],
   "source": [
    "#boosting_type='gbdt', objective='binary', num_leaves=200,\n",
    "#                                learning_rate=0.1, n_estimators=500, max_depth=100,\n",
    "#                                bagging_fraction=0.9, feature_fraction=0.9, reg_lambda=0.2\n",
    "lgb_clf = lgb.LGBMClassifier(boosting_type='gbdt', objective='binary', num_leaves=200,\n",
    "                                learning_rate=0.1, n_estimators=500, max_depth=100,\n",
    "                                bagging_fraction=0.9, feature_fraction=0.9, reg_lambda=0.2)"
   ]
  },
  {
   "cell_type": "code",
   "execution_count": 406,
   "metadata": {},
   "outputs": [],
   "source": [
    "X_train, X_test, y_train, y_test = train_test_split(train, label, test_size = 0.3, random_state = 0)"
   ]
  },
  {
   "cell_type": "code",
   "execution_count": 407,
   "metadata": {},
   "outputs": [
    {
     "name": "stdout",
     "output_type": "stream",
     "text": [
      "[LightGBM] [Warning] bagging_fraction is set=0.9, subsample=1.0 will be ignored. Current value: bagging_fraction=0.9\n",
      "[LightGBM] [Warning] feature_fraction is set=0.9, colsample_bytree=1.0 will be ignored. Current value: feature_fraction=0.9\n"
     ]
    },
    {
     "data": {
      "text/plain": [
       "LGBMClassifier(bagging_fraction=0.9, feature_fraction=0.9, max_depth=100,\n",
       "               n_estimators=500, num_leaves=200, objective='binary',\n",
       "               reg_lambda=0.2)"
      ]
     },
     "execution_count": 407,
     "metadata": {},
     "output_type": "execute_result"
    }
   ],
   "source": [
    "lgb_clf.fit(X_train, y_train)"
   ]
  },
  {
   "cell_type": "code",
   "execution_count": 408,
   "metadata": {},
   "outputs": [],
   "source": [
    "x_predict=lgb_clf.predict(X_test)"
   ]
  },
  {
   "cell_type": "code",
   "execution_count": 409,
   "metadata": {},
   "outputs": [],
   "source": [
    "from sklearn.metrics import mean_squared_error,roc_auc_score,precision_score"
   ]
  },
  {
   "cell_type": "code",
   "execution_count": 410,
   "metadata": {},
   "outputs": [
    {
     "data": {
      "text/plain": [
       "0.6591200547279633"
      ]
     },
     "execution_count": 410,
     "metadata": {},
     "output_type": "execute_result"
    }
   ],
   "source": [
    "precision_score(x_predict,y_test,average=None).mean()"
   ]
  },
  {
   "cell_type": "raw",
   "metadata": {},
   "source": [
    "Preparando datos"
   ]
  },
  {
   "cell_type": "code",
   "execution_count": 411,
   "metadata": {},
   "outputs": [
    {
     "data": {
      "text/html": [
       "<div>\n",
       "<style scoped>\n",
       "    .dataframe tbody tr th:only-of-type {\n",
       "        vertical-align: middle;\n",
       "    }\n",
       "\n",
       "    .dataframe tbody tr th {\n",
       "        vertical-align: top;\n",
       "    }\n",
       "\n",
       "    .dataframe thead th {\n",
       "        text-align: right;\n",
       "    }\n",
       "</style>\n",
       "<table border=\"1\" class=\"dataframe\">\n",
       "  <thead>\n",
       "    <tr style=\"text-align: right;\">\n",
       "      <th></th>\n",
       "      <th>building_id</th>\n",
       "      <th>geo_level_1_id</th>\n",
       "      <th>geo_level_2_id</th>\n",
       "      <th>geo_level_3_id</th>\n",
       "      <th>count_floors_pre_eq</th>\n",
       "      <th>age</th>\n",
       "      <th>area_percentage</th>\n",
       "      <th>height_percentage</th>\n",
       "      <th>land_surface_condition</th>\n",
       "      <th>foundation_type</th>\n",
       "      <th>...</th>\n",
       "      <th>has_secondary_use_agriculture</th>\n",
       "      <th>has_secondary_use_hotel</th>\n",
       "      <th>has_secondary_use_rental</th>\n",
       "      <th>has_secondary_use_institution</th>\n",
       "      <th>has_secondary_use_school</th>\n",
       "      <th>has_secondary_use_industry</th>\n",
       "      <th>has_secondary_use_health_post</th>\n",
       "      <th>has_secondary_use_gov_office</th>\n",
       "      <th>has_secondary_use_use_police</th>\n",
       "      <th>has_secondary_use_other</th>\n",
       "    </tr>\n",
       "  </thead>\n",
       "  <tbody>\n",
       "    <tr>\n",
       "      <th>0</th>\n",
       "      <td>300051</td>\n",
       "      <td>17</td>\n",
       "      <td>596</td>\n",
       "      <td>11307</td>\n",
       "      <td>3</td>\n",
       "      <td>20</td>\n",
       "      <td>7</td>\n",
       "      <td>6</td>\n",
       "      <td>t</td>\n",
       "      <td>r</td>\n",
       "      <td>...</td>\n",
       "      <td>0</td>\n",
       "      <td>0</td>\n",
       "      <td>0</td>\n",
       "      <td>0</td>\n",
       "      <td>0</td>\n",
       "      <td>0</td>\n",
       "      <td>0</td>\n",
       "      <td>0</td>\n",
       "      <td>0</td>\n",
       "      <td>0</td>\n",
       "    </tr>\n",
       "    <tr>\n",
       "      <th>1</th>\n",
       "      <td>99355</td>\n",
       "      <td>6</td>\n",
       "      <td>141</td>\n",
       "      <td>11987</td>\n",
       "      <td>2</td>\n",
       "      <td>25</td>\n",
       "      <td>13</td>\n",
       "      <td>5</td>\n",
       "      <td>t</td>\n",
       "      <td>r</td>\n",
       "      <td>...</td>\n",
       "      <td>1</td>\n",
       "      <td>0</td>\n",
       "      <td>0</td>\n",
       "      <td>0</td>\n",
       "      <td>0</td>\n",
       "      <td>0</td>\n",
       "      <td>0</td>\n",
       "      <td>0</td>\n",
       "      <td>0</td>\n",
       "      <td>0</td>\n",
       "    </tr>\n",
       "  </tbody>\n",
       "</table>\n",
       "<p>2 rows × 39 columns</p>\n",
       "</div>"
      ],
      "text/plain": [
       "   building_id  geo_level_1_id  geo_level_2_id  geo_level_3_id  \\\n",
       "0       300051              17             596           11307   \n",
       "1        99355               6             141           11987   \n",
       "\n",
       "   count_floors_pre_eq  age  area_percentage  height_percentage  \\\n",
       "0                    3   20                7                  6   \n",
       "1                    2   25               13                  5   \n",
       "\n",
       "  land_surface_condition foundation_type           ...             \\\n",
       "0                      t               r           ...              \n",
       "1                      t               r           ...              \n",
       "\n",
       "  has_secondary_use_agriculture has_secondary_use_hotel  \\\n",
       "0                             0                       0   \n",
       "1                             1                       0   \n",
       "\n",
       "  has_secondary_use_rental has_secondary_use_institution  \\\n",
       "0                        0                             0   \n",
       "1                        0                             0   \n",
       "\n",
       "  has_secondary_use_school  has_secondary_use_industry  \\\n",
       "0                        0                           0   \n",
       "1                        0                           0   \n",
       "\n",
       "   has_secondary_use_health_post  has_secondary_use_gov_office  \\\n",
       "0                              0                             0   \n",
       "1                              0                             0   \n",
       "\n",
       "   has_secondary_use_use_police  has_secondary_use_other  \n",
       "0                             0                        0  \n",
       "1                             0                        0  \n",
       "\n",
       "[2 rows x 39 columns]"
      ]
     },
     "execution_count": 411,
     "metadata": {},
     "output_type": "execute_result"
    }
   ],
   "source": [
    "test_values.head(2)"
   ]
  },
  {
   "cell_type": "code",
   "execution_count": 412,
   "metadata": {},
   "outputs": [],
   "source": [
    "test_values=test_values[['geo_level_1_id','geo_level_2_id','geo_level_3_id',\n",
    "                        'land_surface_condition','foundation_type','ground_floor_type',\n",
    "                         'age','plan_configuration',\n",
    "             'height_percentage','roof_type','other_floor_type','position']]"
   ]
  },
  {
   "cell_type": "code",
   "execution_count": 413,
   "metadata": {},
   "outputs": [],
   "source": [
    "p=pd.get_dummies(test_values.position)\n",
    "p_columns = p.columns\n",
    "p_columns=np.array(p_columns)\n",
    "p.columns=surface(p_columns)\n",
    "test_values[p.columns]=p\n",
    "test_values=test_values.drop(columns = ['position'])"
   ]
  },
  {
   "cell_type": "code",
   "execution_count": 414,
   "metadata": {},
   "outputs": [],
   "source": [
    "oft=pd.get_dummies(test_values.other_floor_type)\n",
    "oft_columns = oft.columns\n",
    "oft_columns=np.array(oft_columns)\n",
    "oft.columns=surface(oft_columns)\n",
    "test_values[oft.columns]=oft\n",
    "test_values=test_values.drop(columns = ['other_floor_type'])"
   ]
  },
  {
   "cell_type": "code",
   "execution_count": 415,
   "metadata": {},
   "outputs": [],
   "source": [
    "rt=pd.get_dummies(test_values.roof_type)\n",
    "rt_columns = rt.columns\n",
    "rt_columns=np.array(rt_columns)\n",
    "rt.columns=surface(rt_columns)\n",
    "test_values[rt.columns]=rt\n",
    "test_values=test_values.drop(columns = ['roof_type'])"
   ]
  },
  {
   "cell_type": "code",
   "execution_count": 416,
   "metadata": {},
   "outputs": [],
   "source": [
    "pc=pd.get_dummies(test_values.plan_configuration)\n",
    "pc_columns = pc.columns\n",
    "pc_columns=np.array(pc_columns)\n",
    "pc.columns=surface(pc_columns)\n",
    "test_values[pc.columns]=pc\n",
    "test_values=test_values.drop(columns = ['plan_configuration'])"
   ]
  },
  {
   "cell_type": "code",
   "execution_count": 417,
   "metadata": {},
   "outputs": [],
   "source": [
    "x=pd.get_dummies(test_values.land_surface_condition)\n",
    "x_columns = x.columns\n",
    "x_columns=np.array(x_columns)\n",
    "x.columns=surface(x_columns)\n",
    "test_values[x.columns]=x\n",
    "test_values=test_values.drop(columns = ['land_surface_condition'])"
   ]
  },
  {
   "cell_type": "code",
   "execution_count": 419,
   "metadata": {},
   "outputs": [],
   "source": [
    "z=pd.get_dummies(test_values.foundation_type)\n",
    "z_columns = z.columns\n",
    "z_columns=np.array(z_columns)\n",
    "z.columns=foundation(z_columns)\n",
    "test_values[z.columns]=z\n",
    "test_values=test_values.drop(columns = ['foundation_type'])"
   ]
  },
  {
   "cell_type": "code",
   "execution_count": 420,
   "metadata": {},
   "outputs": [],
   "source": [
    "g=pd.get_dummies(test_values.geo_level_1_id)\n",
    "g_columns = g.columns\n",
    "g_columns=np.array(g_columns)\n",
    "g.columns=foundation(g_columns)\n",
    "test_values[g.columns]=g\n",
    "test_values=test_values.drop(columns = ['geo_level_1_id'])"
   ]
  },
  {
   "cell_type": "code",
   "execution_count": 422,
   "metadata": {},
   "outputs": [],
   "source": [
    "gf=pd.get_dummies(test_values.ground_floor_type)\n",
    "gf_columns = gf.columns\n",
    "gf_columns=np.array(gf_columns)\n",
    "gf.columns=ground_floor_type(gf_columns)\n",
    "test_values[gf.columns]=gf\n",
    "test_values=test_values.drop(columns = ['ground_floor_type'])"
   ]
  },
  {
   "cell_type": "code",
   "execution_count": 423,
   "metadata": {},
   "outputs": [],
   "source": [
    "test = lgb_clf.predict(test_values)"
   ]
  },
  {
   "cell_type": "code",
   "execution_count": 424,
   "metadata": {},
   "outputs": [],
   "source": [
    "test_values_old  = pd.read_csv('../Archivos de datos/test_values.csv')"
   ]
  },
  {
   "cell_type": "code",
   "execution_count": 425,
   "metadata": {},
   "outputs": [],
   "source": [
    "test_values_=pd.DataFrame()\n",
    "test_values_['building_id']=test_values_old.building_id\n",
    "test_values_['damage_grade']=pd.Series(test)\n",
    "test_values_.to_csv('test_values_v4.csv',index=False)"
   ]
  },
  {
   "cell_type": "code",
   "execution_count": 426,
   "metadata": {},
   "outputs": [
    {
     "data": {
      "text/html": [
       "<div>\n",
       "<style scoped>\n",
       "    .dataframe tbody tr th:only-of-type {\n",
       "        vertical-align: middle;\n",
       "    }\n",
       "\n",
       "    .dataframe tbody tr th {\n",
       "        vertical-align: top;\n",
       "    }\n",
       "\n",
       "    .dataframe thead th {\n",
       "        text-align: right;\n",
       "    }\n",
       "</style>\n",
       "<table border=\"1\" class=\"dataframe\">\n",
       "  <thead>\n",
       "    <tr style=\"text-align: right;\">\n",
       "      <th></th>\n",
       "      <th>building_id</th>\n",
       "      <th>damage_grade</th>\n",
       "    </tr>\n",
       "  </thead>\n",
       "  <tbody>\n",
       "    <tr>\n",
       "      <th>0</th>\n",
       "      <td>300051</td>\n",
       "      <td>3</td>\n",
       "    </tr>\n",
       "    <tr>\n",
       "      <th>1</th>\n",
       "      <td>99355</td>\n",
       "      <td>2</td>\n",
       "    </tr>\n",
       "    <tr>\n",
       "      <th>2</th>\n",
       "      <td>890251</td>\n",
       "      <td>2</td>\n",
       "    </tr>\n",
       "    <tr>\n",
       "      <th>3</th>\n",
       "      <td>745817</td>\n",
       "      <td>1</td>\n",
       "    </tr>\n",
       "    <tr>\n",
       "      <th>4</th>\n",
       "      <td>421793</td>\n",
       "      <td>3</td>\n",
       "    </tr>\n",
       "  </tbody>\n",
       "</table>\n",
       "</div>"
      ],
      "text/plain": [
       "   building_id  damage_grade\n",
       "0       300051             3\n",
       "1        99355             2\n",
       "2       890251             2\n",
       "3       745817             1\n",
       "4       421793             3"
      ]
     },
     "execution_count": 426,
     "metadata": {},
     "output_type": "execute_result"
    }
   ],
   "source": [
    "test_values_.head(5)"
   ]
  },
  {
   "cell_type": "code",
   "execution_count": null,
   "metadata": {},
   "outputs": [],
   "source": []
  },
  {
   "cell_type": "code",
   "execution_count": null,
   "metadata": {},
   "outputs": [],
   "source": []
  }
 ],
 "metadata": {
  "kernelspec": {
   "display_name": "Python 3",
   "language": "python",
   "name": "python3"
  },
  "language_info": {
   "codemirror_mode": {
    "name": "ipython",
    "version": 3
   },
   "file_extension": ".py",
   "mimetype": "text/x-python",
   "name": "python",
   "nbconvert_exporter": "python",
   "pygments_lexer": "ipython3",
   "version": "3.7.3"
  }
 },
 "nbformat": 4,
 "nbformat_minor": 4
}
