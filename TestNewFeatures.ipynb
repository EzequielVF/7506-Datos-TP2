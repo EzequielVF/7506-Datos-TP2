{
 "cells": [
  {
   "cell_type": "code",
   "execution_count": 1,
   "id": "9fae6752-0370-45aa-94ea-da25461764d4",
   "metadata": {},
   "outputs": [],
   "source": [
    "import xgboost as xgb\n",
    "from sklearn.ensemble import RandomForestRegressor\n",
    "from sklearn.metrics import mean_squared_error\n",
    "import pandas as pd\n",
    "import numpy as np\n",
    "from sklearn import tree\n",
    "from sklearn.model_selection import cross_validate,KFold, RandomizedSearchCV\n",
    "from sklearn.model_selection import train_test_split\n",
    "import seaborn as sns\n",
    "from math import pi\n",
    "import matplotlib.pyplot as plt\n",
    "import random\n",
    "%matplotlib inline\n",
    "from sklearn.metrics import roc_auc_score\n",
    "from sklearn.metrics import accuracy_score\n",
    "from sklearn.metrics import f1_score\n",
    "from sklearn.ensemble import RandomForestClassifier\n",
    "from sklearn.model_selection import cross_validate,KFold, RandomizedSearchCV\n",
    "from sklearn.model_selection import train_test_split\n",
    "from sklearn.utils import resample\n",
    "from xgboost import XGBClassifier\n",
    "from sklearn.model_selection import train_test_split\n",
    "\n",
    "train_labels = pd.read_csv('Archivos de datos/train_labels.csv', encoding='latin-1')\n",
    "train = pd.read_csv('Archivos de datos/Create_features_train.csv', encoding='latin-1')\n",
    "\n",
    "X=train\n",
    "X['building_id'] = 0;\n",
    "y=train_labels['damage_grade'].astype(int)"
   ]
  },
  {
   "cell_type": "code",
   "execution_count": null,
   "id": "a8403027-9409-4f4e-94be-c249450f60fc",
   "metadata": {},
   "outputs": [
    {
     "name": "stderr",
     "output_type": "stream",
     "text": [
      "G:\\Prog\\conda\\lib\\site-packages\\xgboost\\sklearn.py:1146: UserWarning: The use of label encoder in XGBClassifier is deprecated and will be removed in a future release. To remove this warning, do the following: 1) Pass option use_label_encoder=False when constructing XGBClassifier object; and 2) Encode your labels (y) as integers starting with 0, i.e. 0, 1, 2, ..., [num_class - 1].\n",
      "  warnings.warn(label_encoder_deprecation_msg, UserWarning)\n"
     ]
    },
    {
     "name": "stdout",
     "output_type": "stream",
     "text": [
      "[23:36:26] WARNING: C:/Users/Administrator/workspace/xgboost-win64_release_1.4.0/src/learner.cc:1095: Starting in XGBoost 1.3.0, the default evaluation metric used with the objective 'multi:softprob' was changed from 'merror' to 'mlogloss'. Explicitly set eval_metric if you'd like to restore the old behavior.\n"
     ]
    }
   ],
   "source": [
    "%%time\n",
    "##aca tenes el modelo con los mejores parametros\n",
    "clf=XGBClassifier(n_estimators= 500, max_depth= 20,learning_rate= 0.03, colsample_bytree= 0.5, gamma= 1.5, min_child_weight= 1, reg_lambda= 1, subsample= 0.4)\n",
    "clf.fit(X,y)"
   ]
  },
  {
   "cell_type": "code",
   "execution_count": null,
   "id": "1bfbe12d-f545-4d28-9525-bd3682624ace",
   "metadata": {},
   "outputs": [],
   "source": [
    "##aca lees y haces la predicion y te la guardas para subirla\n",
    "X_test=pd.read_csv('Archivos de datos/Create_features_test.csv')\n",
    "prediction=clf.predict(X_test)\n",
    "result=pd.DataFrame(prediction)\n",
    "result['building_id']=X_test['building_id']\n",
    "result.rename(columns={0:'damage_grade'},inplace=True)\n",
    "result=result[['building_id','damage_grade']]\n",
    "result.to_csv('Archivos de datos/prueba_features.csv',index=False)"
   ]
  },
  {
   "cell_type": "code",
   "execution_count": null,
   "id": "9eeee7be-fbe0-4c4d-b997-ed50dc8b8fe5",
   "metadata": {},
   "outputs": [],
   "source": [
    "##y aca para ver la importancia de los features\n",
    "from xgboost import plot_importance\n",
    "from matplotlib import pyplot\n",
    "from numpy import loadtxt\n",
    "plot_importance(clf, max_num_features=20)\n",
    "pyplot.show()"
   ]
  }
 ],
 "metadata": {
  "kernelspec": {
   "display_name": "Python 3",
   "language": "python",
   "name": "python3"
  },
  "language_info": {
   "codemirror_mode": {
    "name": "ipython",
    "version": 3
   },
   "file_extension": ".py",
   "mimetype": "text/x-python",
   "name": "python",
   "nbconvert_exporter": "python",
   "pygments_lexer": "ipython3",
   "version": "3.8.8"
  }
 },
 "nbformat": 4,
 "nbformat_minor": 5
}
