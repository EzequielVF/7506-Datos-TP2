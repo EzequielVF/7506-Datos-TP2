{
 "cells": [
  {
   "cell_type": "code",
   "execution_count": 1,
   "id": "9d49f613-5878-41e5-a810-8e89abb38f79",
   "metadata": {},
   "outputs": [],
   "source": [
    "import xgboost as xgb\n",
    "from sklearn.ensemble import RandomForestRegressor\n",
    "from sklearn.metrics import mean_squared_error\n",
    "import pandas as pd\n",
    "import numpy as np\n",
    "from sklearn import tree\n",
    "from sklearn.model_selection import cross_validate,KFold, RandomizedSearchCV\n",
    "from sklearn.model_selection import train_test_split\n",
    "import seaborn as sns\n",
    "from math import pi\n",
    "import matplotlib.pyplot as plt\n",
    "import random\n",
    "%matplotlib inline\n",
    "from sklearn.metrics import roc_auc_score\n",
    "from sklearn.metrics import accuracy_score\n",
    "from sklearn.metrics import f1_score\n",
    "from sklearn.ensemble import RandomForestClassifier\n",
    "from sklearn.model_selection import cross_validate,KFold, RandomizedSearchCV\n",
    "from sklearn.model_selection import train_test_split\n",
    "from sklearn.utils import resample\n",
    "from xgboost import XGBClassifier\n",
    "\n",
    "train_labels = pd.read_csv('Archivos de datos/train_labels.csv', encoding='latin-1')\n",
    "train_values = pd.read_csv('Archivos de datos/train_values.csv', encoding='latin-1')\n",
    "\n",
    "join = train_values.merge(train_labels)\n",
    "\n",
    "## Experimentacion\n",
    "\n",
    "join.columns\n",
    "\n",
    "join['damage_grade'].value_counts()\n",
    "\n",
    "X=pd.get_dummies(join.loc[:,:'has_secondary_use_other'])\n",
    "y=join['damage_grade'].astype(int)\n",
    "\n",
    "## Creamos set de entrenamiento y test\n",
    "\n",
    "from sklearn.model_selection import train_test_split"
   ]
  },
  {
   "cell_type": "code",
   "execution_count": 3,
   "id": "899590a6-03d3-4dbb-9bdc-f8da4f9c8afd",
   "metadata": {},
   "outputs": [],
   "source": [
    "join = join.astype({'land_surface_condition':'category', 'foundation_type':'category',\\\n",
    "                                    'roof_type':'category', 'ground_floor_type':'category',\\\n",
    "                                    'other_floor_type':'category', 'position':'category',\\\n",
    "                                    'plan_configuration':'category', 'legal_ownership_status':'category'\n",
    "                                    })"
   ]
  },
  {
   "cell_type": "code",
   "execution_count": 4,
   "id": "3bf00a37-e318-4c6a-a5e3-e43d1f669410",
   "metadata": {},
   "outputs": [
    {
     "name": "stdout",
     "output_type": "stream",
     "text": [
      "<class 'pandas.core.frame.DataFrame'>\n",
      "Int64Index: 260601 entries, 0 to 260600\n",
      "Data columns (total 40 columns):\n",
      " #   Column                                  Non-Null Count   Dtype   \n",
      "---  ------                                  --------------   -----   \n",
      " 0   building_id                             260601 non-null  int64   \n",
      " 1   geo_level_1_id                          260601 non-null  int64   \n",
      " 2   geo_level_2_id                          260601 non-null  int64   \n",
      " 3   geo_level_3_id                          260601 non-null  int64   \n",
      " 4   count_floors_pre_eq                     260601 non-null  int64   \n",
      " 5   age                                     260601 non-null  int64   \n",
      " 6   area_percentage                         260601 non-null  int64   \n",
      " 7   height_percentage                       260601 non-null  int64   \n",
      " 8   land_surface_condition                  260601 non-null  category\n",
      " 9   foundation_type                         260601 non-null  category\n",
      " 10  roof_type                               260601 non-null  category\n",
      " 11  ground_floor_type                       260601 non-null  category\n",
      " 12  other_floor_type                        260601 non-null  category\n",
      " 13  position                                260601 non-null  category\n",
      " 14  plan_configuration                      260601 non-null  category\n",
      " 15  has_superstructure_adobe_mud            260601 non-null  int64   \n",
      " 16  has_superstructure_mud_mortar_stone     260601 non-null  int64   \n",
      " 17  has_superstructure_stone_flag           260601 non-null  int64   \n",
      " 18  has_superstructure_cement_mortar_stone  260601 non-null  int64   \n",
      " 19  has_superstructure_mud_mortar_brick     260601 non-null  int64   \n",
      " 20  has_superstructure_cement_mortar_brick  260601 non-null  int64   \n",
      " 21  has_superstructure_timber               260601 non-null  int64   \n",
      " 22  has_superstructure_bamboo               260601 non-null  int64   \n",
      " 23  has_superstructure_rc_non_engineered    260601 non-null  int64   \n",
      " 24  has_superstructure_rc_engineered        260601 non-null  int64   \n",
      " 25  has_superstructure_other                260601 non-null  int64   \n",
      " 26  legal_ownership_status                  260601 non-null  category\n",
      " 27  count_families                          260601 non-null  int64   \n",
      " 28  has_secondary_use                       260601 non-null  int64   \n",
      " 29  has_secondary_use_agriculture           260601 non-null  int64   \n",
      " 30  has_secondary_use_hotel                 260601 non-null  int64   \n",
      " 31  has_secondary_use_rental                260601 non-null  int64   \n",
      " 32  has_secondary_use_institution           260601 non-null  int64   \n",
      " 33  has_secondary_use_school                260601 non-null  int64   \n",
      " 34  has_secondary_use_industry              260601 non-null  int64   \n",
      " 35  has_secondary_use_health_post           260601 non-null  int64   \n",
      " 36  has_secondary_use_gov_office            260601 non-null  int64   \n",
      " 37  has_secondary_use_use_police            260601 non-null  int64   \n",
      " 38  has_secondary_use_other                 260601 non-null  int64   \n",
      " 39  damage_grade                            260601 non-null  int64   \n",
      "dtypes: category(8), int64(32)\n",
      "memory usage: 67.6 MB\n"
     ]
    }
   ],
   "source": [
    "join.info()"
   ]
  },
  {
   "cell_type": "code",
   "execution_count": null,
   "id": "f245b438-4d4d-4933-833e-b40619e91fb0",
   "metadata": {},
   "outputs": [],
   "source": []
  }
 ],
 "metadata": {
  "kernelspec": {
   "display_name": "Python 3",
   "language": "python",
   "name": "python3"
  },
  "language_info": {
   "codemirror_mode": {
    "name": "ipython",
    "version": 3
   },
   "file_extension": ".py",
   "mimetype": "text/x-python",
   "name": "python",
   "nbconvert_exporter": "python",
   "pygments_lexer": "ipython3",
   "version": "3.8.8"
  }
 },
 "nbformat": 4,
 "nbformat_minor": 5
}
