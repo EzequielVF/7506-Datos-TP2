{
 "cells": [
  {
   "cell_type": "code",
   "execution_count": 20,
   "id": "6e96152e-06a8-4e15-a14c-40b23ccca096",
   "metadata": {},
   "outputs": [],
   "source": [
    "import xgboost as xgb\n",
    "from sklearn.ensemble import RandomForestRegressor\n",
    "from sklearn.metrics import mean_squared_error\n",
    "import pandas as pd\n",
    "import numpy as np\n",
    "from sklearn import tree\n",
    "from sklearn.model_selection import cross_validate,KFold, RandomizedSearchCV\n",
    "from sklearn.model_selection import train_test_split\n",
    "import seaborn as sns\n",
    "from math import pi\n",
    "import matplotlib.pyplot as plt\n",
    "import random\n",
    "%matplotlib inline\n",
    "from sklearn.metrics import roc_auc_score\n",
    "from sklearn.metrics import accuracy_score\n",
    "from sklearn.metrics import f1_score\n",
    "from sklearn.ensemble import RandomForestClassifier\n",
    "from sklearn.model_selection import cross_validate,KFold, RandomizedSearchCV\n",
    "from sklearn.model_selection import train_test_split\n",
    "from sklearn.utils import resample\n",
    "from xgboost import XGBClassifier\n",
    "\n",
    "train_labels = pd.read_csv('Archivos de datos/train_labels.csv', encoding='latin-1')\n",
    "train_values = pd.read_csv('Archivos de datos/train_values.csv', encoding='latin-1')\n",
    "\n",
    "join = train_values.merge(train_labels)\n",
    "\n",
    "## Experimentacion\n",
    "\n",
    "join.columns\n",
    "\n",
    "join['damage_grade'].value_counts()\n",
    "\n",
    "X=pd.get_dummies(join.loc[:,:'has_secondary_use_other'])\n",
    "y=join['damage_grade'].astype(int)\n",
    "\n",
    "## Creamos set de entrenamiento y test\n",
    "\n",
    "from sklearn.model_selection import train_test_split\n",
    "\n",
    "X_train, X_test, y_train, y_test = \\\n",
    "    train_test_split(X, y, test_size=0.2, random_state=1)"
   ]
  },
  {
   "cell_type": "code",
   "execution_count": 3,
   "id": "2fc18bc3-ac7a-498b-ada5-8f4ba64c0985",
   "metadata": {},
   "outputs": [],
   "source": [
    "#Seteo los rangos // Falta cambiar por Grid\n",
    "n_estimators=np.arange(100,1000,100)\n",
    "learning_rate=[0.1,0.05,0.01]\n",
    "max_depth=np.arange(10,110,10)\n",
    "\n",
    "param={'n_estimators':n_estimators,'max_depth':max_depth,'learning_rate':learning_rate}"
   ]
  },
  {
   "cell_type": "code",
   "execution_count": null,
   "id": "b9e4c119-6fb0-4190-86e8-f606a9f27fa7",
   "metadata": {},
   "outputs": [],
   "source": [
    "%%time\n",
    "\n",
    "clf=XGBClassifier()\n",
    "kf=KFold(n_splits=2,shuffle=True)\n",
    "rs=RandomizedSearchCV(clf,param_distributions=param,cv=kf,scoring='f1_micro')\n",
    "rs.fit(X,y)"
   ]
  },
  {
   "cell_type": "code",
   "execution_count": null,
   "id": "57b30b18-97b0-4760-bb29-6f9531bbc0b8",
   "metadata": {},
   "outputs": [],
   "source": [
    "rs.best_params_"
   ]
  },
  {
   "cell_type": "code",
   "execution_count": 10,
   "id": "acb0a45a-46d6-425b-9d55-ec845d5b2ad0",
   "metadata": {},
   "outputs": [
    {
     "name": "stdout",
     "output_type": "stream",
     "text": [
      "[14:02:41] WARNING: ..\\src\\learner.cc:1061: Starting in XGBoost 1.3.0, the default evaluation metric used with the objective 'multi:softprob' was changed from 'merror' to 'mlogloss'. Explicitly set eval_metric if you'd like to restore the old behavior.\n",
      "Wall time: 1min 9s\n"
     ]
    },
    {
     "data": {
      "text/plain": [
       "XGBClassifier(base_score=0.5, booster='gbtree', colsample_bylevel=1,\n",
       "              colsample_bynode=1, colsample_bytree=1, gamma=0, gpu_id=-1,\n",
       "              importance_type='gain', interaction_constraints='',\n",
       "              learning_rate=0.1, max_delta_step=0, max_depth=10,\n",
       "              min_child_weight=1, missing=nan, monotone_constraints='()',\n",
       "              n_estimators=100, n_jobs=12, num_parallel_tree=1,\n",
       "              objective='multi:softprob', random_state=0, reg_alpha=0,\n",
       "              reg_lambda=1, scale_pos_weight=None, subsample=1,\n",
       "              tree_method='exact', validate_parameters=1, verbosity=None)"
      ]
     },
     "execution_count": 10,
     "metadata": {},
     "output_type": "execute_result"
    }
   ],
   "source": [
    "%%time\n",
    "clf=XGBClassifier(n_estimators= 100, max_depth= 10,learning_rate= 0.1)\n",
    "clf.fit(X,y)"
   ]
  },
  {
   "cell_type": "code",
   "execution_count": null,
   "id": "4725b375-1302-4892-b479-597057775992",
   "metadata": {},
   "outputs": [],
   "source": [
    "X_test=pd.read_csv('Archivos de datos/test_values.csv')\n",
    "X_test.head()"
   ]
  },
  {
   "cell_type": "code",
   "execution_count": null,
   "id": "42fa252f-250d-44d1-aded-83f49c72cceb",
   "metadata": {},
   "outputs": [],
   "source": [
    "prediction=clf.predict((pd.get_dummies(X_test)))\n",
    "result=pd.DataFrame(prediction)"
   ]
  },
  {
   "cell_type": "code",
   "execution_count": null,
   "id": "43b82280-481d-4fc7-a75d-60e322ad0dc0",
   "metadata": {},
   "outputs": [],
   "source": [
    "result['building_id']=X_test['building_id']\n",
    "result.rename(columns={0:'damage_grade'},inplace=True)\n",
    "result=result[['building_id','damage_grade']]\n",
    "result.head()"
   ]
  },
  {
   "cell_type": "code",
   "execution_count": null,
   "id": "3120eb1b-d4bb-4fd4-8073-c66afad3c7b0",
   "metadata": {},
   "outputs": [],
   "source": [
    "result.to_csv('Archivos de datos/resultado.csv',index=False)"
   ]
  }
 ],
 "metadata": {
  "kernelspec": {
   "display_name": "Python 3",
   "language": "python",
   "name": "python3"
  },
  "language_info": {
   "codemirror_mode": {
    "name": "ipython",
    "version": 3
   },
   "file_extension": ".py",
   "mimetype": "text/x-python",
   "name": "python",
   "nbconvert_exporter": "python",
   "pygments_lexer": "ipython3",
   "version": "3.8.8"
  }
 },
 "nbformat": 4,
 "nbformat_minor": 5
}
