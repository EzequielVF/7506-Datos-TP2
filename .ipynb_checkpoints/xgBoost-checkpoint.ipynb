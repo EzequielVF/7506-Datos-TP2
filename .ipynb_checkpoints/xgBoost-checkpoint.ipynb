{
 "cells": [
  {
   "cell_type": "code",
   "execution_count": 1,
   "id": "6e96152e-06a8-4e15-a14c-40b23ccca096",
   "metadata": {},
   "outputs": [],
   "source": [
    "import xgboost as xgb\n",
    "from sklearn.ensemble import RandomForestRegressor\n",
    "from sklearn.metrics import mean_squared_error\n",
    "import pandas as pd\n",
    "import numpy as np\n",
    "from sklearn import tree\n",
    "from sklearn.model_selection import cross_validate,KFold, RandomizedSearchCV\n",
    "from sklearn.model_selection import train_test_split\n",
    "import seaborn as sns\n",
    "from math import pi\n",
    "import matplotlib.pyplot as plt\n",
    "import random\n",
    "%matplotlib inline\n",
    "from sklearn.metrics import roc_auc_score\n",
    "from sklearn.metrics import accuracy_score\n",
    "from sklearn.metrics import f1_score\n",
    "from sklearn.ensemble import RandomForestClassifier\n",
    "from sklearn.model_selection import cross_validate,KFold, RandomizedSearchCV\n",
    "from sklearn.model_selection import train_test_split\n",
    "from sklearn.utils import resample\n",
    "from xgboost import XGBClassifier\n",
    "\n",
    "train_labels = pd.read_csv('Archivos de datos/train_labels.csv', encoding='latin-1')\n",
    "train_values = pd.read_csv('Archivos de datos/train_values.csv', encoding='latin-1')\n",
    "\n",
    "join = train_values.merge(train_labels)\n",
    "join = join.astype({'land_surface_condition':'category', 'foundation_type':'category',\\\n",
    "                                    'roof_type':'category', 'ground_floor_type':'category',\\\n",
    "                                    'other_floor_type':'category', 'position':'category',\\\n",
    "                                    'plan_configuration':'category', 'legal_ownership_status':'category'\n",
    "                                    })\n",
    "## Experimentacion\n",
    "\n",
    "join.columns\n",
    "join['damage_grade'].value_counts()\n",
    "X=pd.get_dummies(join.loc[:,:'has_secondary_use_other'])\n",
    "y=join['damage_grade'].astype(int)\n",
    "\n",
    "## Creamos set de entrenamiento y test\n",
    "\n",
    "from sklearn.model_selection import train_test_split"
   ]
  },
  {
   "cell_type": "code",
   "execution_count": 4,
   "id": "ac23cab1-4a27-4da4-b1f9-89ff1371feca",
   "metadata": {},
   "outputs": [
    {
     "data": {
      "text/html": [
       "<div>\n",
       "<style scoped>\n",
       "    .dataframe tbody tr th:only-of-type {\n",
       "        vertical-align: middle;\n",
       "    }\n",
       "\n",
       "    .dataframe tbody tr th {\n",
       "        vertical-align: top;\n",
       "    }\n",
       "\n",
       "    .dataframe thead th {\n",
       "        text-align: right;\n",
       "    }\n",
       "</style>\n",
       "<table border=\"1\" class=\"dataframe\">\n",
       "  <thead>\n",
       "    <tr style=\"text-align: right;\">\n",
       "      <th></th>\n",
       "      <th>building_id</th>\n",
       "      <th>geo_level_1_id</th>\n",
       "      <th>geo_level_2_id</th>\n",
       "      <th>geo_level_3_id</th>\n",
       "      <th>count_floors_pre_eq</th>\n",
       "      <th>age</th>\n",
       "      <th>area_percentage</th>\n",
       "      <th>height_percentage</th>\n",
       "      <th>land_surface_condition</th>\n",
       "      <th>foundation_type</th>\n",
       "      <th>...</th>\n",
       "      <th>has_secondary_use_hotel</th>\n",
       "      <th>has_secondary_use_rental</th>\n",
       "      <th>has_secondary_use_institution</th>\n",
       "      <th>has_secondary_use_school</th>\n",
       "      <th>has_secondary_use_industry</th>\n",
       "      <th>has_secondary_use_health_post</th>\n",
       "      <th>has_secondary_use_gov_office</th>\n",
       "      <th>has_secondary_use_use_police</th>\n",
       "      <th>has_secondary_use_other</th>\n",
       "      <th>damage_grade</th>\n",
       "    </tr>\n",
       "  </thead>\n",
       "  <tbody>\n",
       "    <tr>\n",
       "      <th>0</th>\n",
       "      <td>802906</td>\n",
       "      <td>6</td>\n",
       "      <td>487</td>\n",
       "      <td>12198</td>\n",
       "      <td>2</td>\n",
       "      <td>30</td>\n",
       "      <td>6</td>\n",
       "      <td>5</td>\n",
       "      <td>t</td>\n",
       "      <td>r</td>\n",
       "      <td>...</td>\n",
       "      <td>0</td>\n",
       "      <td>0</td>\n",
       "      <td>0</td>\n",
       "      <td>0</td>\n",
       "      <td>0</td>\n",
       "      <td>0</td>\n",
       "      <td>0</td>\n",
       "      <td>0</td>\n",
       "      <td>0</td>\n",
       "      <td>3</td>\n",
       "    </tr>\n",
       "    <tr>\n",
       "      <th>1</th>\n",
       "      <td>28830</td>\n",
       "      <td>8</td>\n",
       "      <td>900</td>\n",
       "      <td>2812</td>\n",
       "      <td>2</td>\n",
       "      <td>10</td>\n",
       "      <td>8</td>\n",
       "      <td>7</td>\n",
       "      <td>o</td>\n",
       "      <td>r</td>\n",
       "      <td>...</td>\n",
       "      <td>0</td>\n",
       "      <td>0</td>\n",
       "      <td>0</td>\n",
       "      <td>0</td>\n",
       "      <td>0</td>\n",
       "      <td>0</td>\n",
       "      <td>0</td>\n",
       "      <td>0</td>\n",
       "      <td>0</td>\n",
       "      <td>2</td>\n",
       "    </tr>\n",
       "    <tr>\n",
       "      <th>2</th>\n",
       "      <td>94947</td>\n",
       "      <td>21</td>\n",
       "      <td>363</td>\n",
       "      <td>8973</td>\n",
       "      <td>2</td>\n",
       "      <td>10</td>\n",
       "      <td>5</td>\n",
       "      <td>5</td>\n",
       "      <td>t</td>\n",
       "      <td>r</td>\n",
       "      <td>...</td>\n",
       "      <td>0</td>\n",
       "      <td>0</td>\n",
       "      <td>0</td>\n",
       "      <td>0</td>\n",
       "      <td>0</td>\n",
       "      <td>0</td>\n",
       "      <td>0</td>\n",
       "      <td>0</td>\n",
       "      <td>0</td>\n",
       "      <td>3</td>\n",
       "    </tr>\n",
       "    <tr>\n",
       "      <th>3</th>\n",
       "      <td>590882</td>\n",
       "      <td>22</td>\n",
       "      <td>418</td>\n",
       "      <td>10694</td>\n",
       "      <td>2</td>\n",
       "      <td>10</td>\n",
       "      <td>6</td>\n",
       "      <td>5</td>\n",
       "      <td>t</td>\n",
       "      <td>r</td>\n",
       "      <td>...</td>\n",
       "      <td>0</td>\n",
       "      <td>0</td>\n",
       "      <td>0</td>\n",
       "      <td>0</td>\n",
       "      <td>0</td>\n",
       "      <td>0</td>\n",
       "      <td>0</td>\n",
       "      <td>0</td>\n",
       "      <td>0</td>\n",
       "      <td>2</td>\n",
       "    </tr>\n",
       "    <tr>\n",
       "      <th>4</th>\n",
       "      <td>201944</td>\n",
       "      <td>11</td>\n",
       "      <td>131</td>\n",
       "      <td>1488</td>\n",
       "      <td>3</td>\n",
       "      <td>30</td>\n",
       "      <td>8</td>\n",
       "      <td>9</td>\n",
       "      <td>t</td>\n",
       "      <td>r</td>\n",
       "      <td>...</td>\n",
       "      <td>0</td>\n",
       "      <td>0</td>\n",
       "      <td>0</td>\n",
       "      <td>0</td>\n",
       "      <td>0</td>\n",
       "      <td>0</td>\n",
       "      <td>0</td>\n",
       "      <td>0</td>\n",
       "      <td>0</td>\n",
       "      <td>3</td>\n",
       "    </tr>\n",
       "  </tbody>\n",
       "</table>\n",
       "<p>5 rows × 40 columns</p>\n",
       "</div>"
      ],
      "text/plain": [
       "   building_id  geo_level_1_id  geo_level_2_id  geo_level_3_id  \\\n",
       "0       802906               6             487           12198   \n",
       "1        28830               8             900            2812   \n",
       "2        94947              21             363            8973   \n",
       "3       590882              22             418           10694   \n",
       "4       201944              11             131            1488   \n",
       "\n",
       "   count_floors_pre_eq  age  area_percentage  height_percentage  \\\n",
       "0                    2   30                6                  5   \n",
       "1                    2   10                8                  7   \n",
       "2                    2   10                5                  5   \n",
       "3                    2   10                6                  5   \n",
       "4                    3   30                8                  9   \n",
       "\n",
       "  land_surface_condition foundation_type  ... has_secondary_use_hotel  \\\n",
       "0                      t               r  ...                       0   \n",
       "1                      o               r  ...                       0   \n",
       "2                      t               r  ...                       0   \n",
       "3                      t               r  ...                       0   \n",
       "4                      t               r  ...                       0   \n",
       "\n",
       "  has_secondary_use_rental has_secondary_use_institution  \\\n",
       "0                        0                             0   \n",
       "1                        0                             0   \n",
       "2                        0                             0   \n",
       "3                        0                             0   \n",
       "4                        0                             0   \n",
       "\n",
       "  has_secondary_use_school has_secondary_use_industry  \\\n",
       "0                        0                          0   \n",
       "1                        0                          0   \n",
       "2                        0                          0   \n",
       "3                        0                          0   \n",
       "4                        0                          0   \n",
       "\n",
       "   has_secondary_use_health_post  has_secondary_use_gov_office  \\\n",
       "0                              0                             0   \n",
       "1                              0                             0   \n",
       "2                              0                             0   \n",
       "3                              0                             0   \n",
       "4                              0                             0   \n",
       "\n",
       "   has_secondary_use_use_police  has_secondary_use_other  damage_grade  \n",
       "0                             0                        0             3  \n",
       "1                             0                        0             2  \n",
       "2                             0                        0             3  \n",
       "3                             0                        0             2  \n",
       "4                             0                        0             3  \n",
       "\n",
       "[5 rows x 40 columns]"
      ]
     },
     "execution_count": 4,
     "metadata": {},
     "output_type": "execute_result"
    }
   ],
   "source": [
    "join.head()"
   ]
  },
  {
   "cell_type": "code",
   "execution_count": 5,
   "id": "b858727f-f44f-4afc-a46d-b280b6e1d58f",
   "metadata": {},
   "outputs": [
    {
     "data": {
      "text/plain": [
       "Index(['building_id', 'geo_level_1_id', 'geo_level_2_id', 'geo_level_3_id',\n",
       "       'count_floors_pre_eq', 'age', 'area_percentage', 'height_percentage',\n",
       "       'land_surface_condition', 'foundation_type', 'roof_type',\n",
       "       'ground_floor_type', 'other_floor_type', 'position',\n",
       "       'plan_configuration', 'has_superstructure_adobe_mud',\n",
       "       'has_superstructure_mud_mortar_stone', 'has_superstructure_stone_flag',\n",
       "       'has_superstructure_cement_mortar_stone',\n",
       "       'has_superstructure_mud_mortar_brick',\n",
       "       'has_superstructure_cement_mortar_brick', 'has_superstructure_timber',\n",
       "       'has_superstructure_bamboo', 'has_superstructure_rc_non_engineered',\n",
       "       'has_superstructure_rc_engineered', 'has_superstructure_other',\n",
       "       'legal_ownership_status', 'count_families', 'has_secondary_use',\n",
       "       'has_secondary_use_agriculture', 'has_secondary_use_hotel',\n",
       "       'has_secondary_use_rental', 'has_secondary_use_institution',\n",
       "       'has_secondary_use_school', 'has_secondary_use_industry',\n",
       "       'has_secondary_use_health_post', 'has_secondary_use_gov_office',\n",
       "       'has_secondary_use_use_police', 'has_secondary_use_other',\n",
       "       'damage_grade'],\n",
       "      dtype='object')"
      ]
     },
     "execution_count": 5,
     "metadata": {},
     "output_type": "execute_result"
    }
   ],
   "source": [
    "join.columns"
   ]
  },
  {
   "cell_type": "code",
   "execution_count": 2,
   "id": "2fc18bc3-ac7a-498b-ada5-8f4ba64c0985",
   "metadata": {},
   "outputs": [],
   "source": [
    "#Seteo los rangos // Falta cambiar por Grid\n",
    "n_estimators=[500, 600, 700]\n",
    "learning_rate=[0.1,0.05,0.01]\n",
    "max_depth=[5, 10, 15, 20]\n",
    "gamma=[0, 0.5, 1, 1.5, 2, 5]\n",
    "reg_lambda=[0, 1, 5, 10]\n",
    "subsample=[0.2, 0.4, 0.6, 0.8, 1]\n",
    "colsample_bytree=[0, 0.3, 0.5, 0.7, 1]\n",
    "min_child_weight= [1, 5, 10]\n",
    "\n",
    "param={'n_estimators':n_estimators,'max_depth':max_depth,'learning_rate':learning_rate,'gamma':gamma, 'reg_lambda':reg_lambda, 'subsample':subsample, 'colsample_bytree':colsample_bytree, 'min_child_weight':min_child_weight}"
   ]
  },
  {
   "cell_type": "code",
   "execution_count": 3,
   "id": "ad787e4a-ae91-4307-b4c6-10b7af9dd97a",
   "metadata": {},
   "outputs": [
    {
     "name": "stderr",
     "output_type": "stream",
     "text": [
      "C:\\Users\\ezequ\\anaconda3\\lib\\site-packages\\xgboost\\sklearn.py:888: UserWarning: The use of label encoder in XGBClassifier is deprecated and will be removed in a future release. To remove this warning, do the following: 1) Pass option use_label_encoder=False when constructing XGBClassifier object; and 2) Encode your labels (y) as integers starting with 0, i.e. 0, 1, 2, ..., [num_class - 1].\n",
      "  warnings.warn(label_encoder_deprecation_msg, UserWarning)\n"
     ]
    },
    {
     "name": "stdout",
     "output_type": "stream",
     "text": [
      "[00:31:46] WARNING: ..\\src\\learner.cc:1061: Starting in XGBoost 1.3.0, the default evaluation metric used with the objective 'multi:softprob' was changed from 'merror' to 'mlogloss'. Explicitly set eval_metric if you'd like to restore the old behavior.\n"
     ]
    },
    {
     "name": "stderr",
     "output_type": "stream",
     "text": [
      "C:\\Users\\ezequ\\anaconda3\\lib\\site-packages\\xgboost\\sklearn.py:888: UserWarning: The use of label encoder in XGBClassifier is deprecated and will be removed in a future release. To remove this warning, do the following: 1) Pass option use_label_encoder=False when constructing XGBClassifier object; and 2) Encode your labels (y) as integers starting with 0, i.e. 0, 1, 2, ..., [num_class - 1].\n",
      "  warnings.warn(label_encoder_deprecation_msg, UserWarning)\n"
     ]
    },
    {
     "name": "stdout",
     "output_type": "stream",
     "text": [
      "[00:35:03] WARNING: ..\\src\\learner.cc:1061: Starting in XGBoost 1.3.0, the default evaluation metric used with the objective 'multi:softprob' was changed from 'merror' to 'mlogloss'. Explicitly set eval_metric if you'd like to restore the old behavior.\n"
     ]
    },
    {
     "name": "stderr",
     "output_type": "stream",
     "text": [
      "C:\\Users\\ezequ\\anaconda3\\lib\\site-packages\\xgboost\\sklearn.py:888: UserWarning: The use of label encoder in XGBClassifier is deprecated and will be removed in a future release. To remove this warning, do the following: 1) Pass option use_label_encoder=False when constructing XGBClassifier object; and 2) Encode your labels (y) as integers starting with 0, i.e. 0, 1, 2, ..., [num_class - 1].\n",
      "  warnings.warn(label_encoder_deprecation_msg, UserWarning)\n"
     ]
    },
    {
     "name": "stdout",
     "output_type": "stream",
     "text": [
      "[00:38:17] WARNING: ..\\src\\learner.cc:1061: Starting in XGBoost 1.3.0, the default evaluation metric used with the objective 'multi:softprob' was changed from 'merror' to 'mlogloss'. Explicitly set eval_metric if you'd like to restore the old behavior.\n"
     ]
    },
    {
     "name": "stderr",
     "output_type": "stream",
     "text": [
      "C:\\Users\\ezequ\\anaconda3\\lib\\site-packages\\xgboost\\sklearn.py:888: UserWarning: The use of label encoder in XGBClassifier is deprecated and will be removed in a future release. To remove this warning, do the following: 1) Pass option use_label_encoder=False when constructing XGBClassifier object; and 2) Encode your labels (y) as integers starting with 0, i.e. 0, 1, 2, ..., [num_class - 1].\n",
      "  warnings.warn(label_encoder_deprecation_msg, UserWarning)\n"
     ]
    },
    {
     "name": "stdout",
     "output_type": "stream",
     "text": [
      "[00:41:31] WARNING: ..\\src\\learner.cc:1061: Starting in XGBoost 1.3.0, the default evaluation metric used with the objective 'multi:softprob' was changed from 'merror' to 'mlogloss'. Explicitly set eval_metric if you'd like to restore the old behavior.\n"
     ]
    },
    {
     "name": "stderr",
     "output_type": "stream",
     "text": [
      "C:\\Users\\ezequ\\anaconda3\\lib\\site-packages\\xgboost\\sklearn.py:888: UserWarning: The use of label encoder in XGBClassifier is deprecated and will be removed in a future release. To remove this warning, do the following: 1) Pass option use_label_encoder=False when constructing XGBClassifier object; and 2) Encode your labels (y) as integers starting with 0, i.e. 0, 1, 2, ..., [num_class - 1].\n",
      "  warnings.warn(label_encoder_deprecation_msg, UserWarning)\n"
     ]
    },
    {
     "name": "stdout",
     "output_type": "stream",
     "text": [
      "[00:45:20] WARNING: ..\\src\\learner.cc:1061: Starting in XGBoost 1.3.0, the default evaluation metric used with the objective 'multi:softprob' was changed from 'merror' to 'mlogloss'. Explicitly set eval_metric if you'd like to restore the old behavior.\n"
     ]
    },
    {
     "name": "stderr",
     "output_type": "stream",
     "text": [
      "C:\\Users\\ezequ\\anaconda3\\lib\\site-packages\\xgboost\\sklearn.py:888: UserWarning: The use of label encoder in XGBClassifier is deprecated and will be removed in a future release. To remove this warning, do the following: 1) Pass option use_label_encoder=False when constructing XGBClassifier object; and 2) Encode your labels (y) as integers starting with 0, i.e. 0, 1, 2, ..., [num_class - 1].\n",
      "  warnings.warn(label_encoder_deprecation_msg, UserWarning)\n"
     ]
    },
    {
     "name": "stdout",
     "output_type": "stream",
     "text": [
      "[00:49:09] WARNING: ..\\src\\learner.cc:1061: Starting in XGBoost 1.3.0, the default evaluation metric used with the objective 'multi:softprob' was changed from 'merror' to 'mlogloss'. Explicitly set eval_metric if you'd like to restore the old behavior.\n"
     ]
    },
    {
     "name": "stderr",
     "output_type": "stream",
     "text": [
      "C:\\Users\\ezequ\\anaconda3\\lib\\site-packages\\xgboost\\sklearn.py:888: UserWarning: The use of label encoder in XGBClassifier is deprecated and will be removed in a future release. To remove this warning, do the following: 1) Pass option use_label_encoder=False when constructing XGBClassifier object; and 2) Encode your labels (y) as integers starting with 0, i.e. 0, 1, 2, ..., [num_class - 1].\n",
      "  warnings.warn(label_encoder_deprecation_msg, UserWarning)\n"
     ]
    },
    {
     "name": "stdout",
     "output_type": "stream",
     "text": [
      "[00:53:05] WARNING: ..\\src\\learner.cc:1061: Starting in XGBoost 1.3.0, the default evaluation metric used with the objective 'multi:softprob' was changed from 'merror' to 'mlogloss'. Explicitly set eval_metric if you'd like to restore the old behavior.\n"
     ]
    },
    {
     "name": "stderr",
     "output_type": "stream",
     "text": [
      "C:\\Users\\ezequ\\anaconda3\\lib\\site-packages\\xgboost\\sklearn.py:888: UserWarning: The use of label encoder in XGBClassifier is deprecated and will be removed in a future release. To remove this warning, do the following: 1) Pass option use_label_encoder=False when constructing XGBClassifier object; and 2) Encode your labels (y) as integers starting with 0, i.e. 0, 1, 2, ..., [num_class - 1].\n",
      "  warnings.warn(label_encoder_deprecation_msg, UserWarning)\n"
     ]
    },
    {
     "name": "stdout",
     "output_type": "stream",
     "text": [
      "[00:58:48] WARNING: ..\\src\\learner.cc:1061: Starting in XGBoost 1.3.0, the default evaluation metric used with the objective 'multi:softprob' was changed from 'merror' to 'mlogloss'. Explicitly set eval_metric if you'd like to restore the old behavior.\n"
     ]
    },
    {
     "name": "stderr",
     "output_type": "stream",
     "text": [
      "C:\\Users\\ezequ\\anaconda3\\lib\\site-packages\\xgboost\\sklearn.py:888: UserWarning: The use of label encoder in XGBClassifier is deprecated and will be removed in a future release. To remove this warning, do the following: 1) Pass option use_label_encoder=False when constructing XGBClassifier object; and 2) Encode your labels (y) as integers starting with 0, i.e. 0, 1, 2, ..., [num_class - 1].\n",
      "  warnings.warn(label_encoder_deprecation_msg, UserWarning)\n"
     ]
    },
    {
     "name": "stdout",
     "output_type": "stream",
     "text": [
      "[01:04:32] WARNING: ..\\src\\learner.cc:1061: Starting in XGBoost 1.3.0, the default evaluation metric used with the objective 'multi:softprob' was changed from 'merror' to 'mlogloss'. Explicitly set eval_metric if you'd like to restore the old behavior.\n"
     ]
    },
    {
     "name": "stderr",
     "output_type": "stream",
     "text": [
      "C:\\Users\\ezequ\\anaconda3\\lib\\site-packages\\xgboost\\sklearn.py:888: UserWarning: The use of label encoder in XGBClassifier is deprecated and will be removed in a future release. To remove this warning, do the following: 1) Pass option use_label_encoder=False when constructing XGBClassifier object; and 2) Encode your labels (y) as integers starting with 0, i.e. 0, 1, 2, ..., [num_class - 1].\n",
      "  warnings.warn(label_encoder_deprecation_msg, UserWarning)\n"
     ]
    },
    {
     "name": "stdout",
     "output_type": "stream",
     "text": [
      "[01:10:26] WARNING: ..\\src\\learner.cc:1061: Starting in XGBoost 1.3.0, the default evaluation metric used with the objective 'multi:softprob' was changed from 'merror' to 'mlogloss'. Explicitly set eval_metric if you'd like to restore the old behavior.\n"
     ]
    },
    {
     "name": "stderr",
     "output_type": "stream",
     "text": [
      "C:\\Users\\ezequ\\anaconda3\\lib\\site-packages\\xgboost\\sklearn.py:888: UserWarning: The use of label encoder in XGBClassifier is deprecated and will be removed in a future release. To remove this warning, do the following: 1) Pass option use_label_encoder=False when constructing XGBClassifier object; and 2) Encode your labels (y) as integers starting with 0, i.e. 0, 1, 2, ..., [num_class - 1].\n",
      "  warnings.warn(label_encoder_deprecation_msg, UserWarning)\n"
     ]
    },
    {
     "name": "stdout",
     "output_type": "stream",
     "text": [
      "[01:15:32] WARNING: ..\\src\\learner.cc:1061: Starting in XGBoost 1.3.0, the default evaluation metric used with the objective 'multi:softprob' was changed from 'merror' to 'mlogloss'. Explicitly set eval_metric if you'd like to restore the old behavior.\n"
     ]
    },
    {
     "name": "stderr",
     "output_type": "stream",
     "text": [
      "C:\\Users\\ezequ\\anaconda3\\lib\\site-packages\\xgboost\\sklearn.py:888: UserWarning: The use of label encoder in XGBClassifier is deprecated and will be removed in a future release. To remove this warning, do the following: 1) Pass option use_label_encoder=False when constructing XGBClassifier object; and 2) Encode your labels (y) as integers starting with 0, i.e. 0, 1, 2, ..., [num_class - 1].\n",
      "  warnings.warn(label_encoder_deprecation_msg, UserWarning)\n"
     ]
    },
    {
     "name": "stdout",
     "output_type": "stream",
     "text": [
      "[01:20:25] WARNING: ..\\src\\learner.cc:1061: Starting in XGBoost 1.3.0, the default evaluation metric used with the objective 'multi:softprob' was changed from 'merror' to 'mlogloss'. Explicitly set eval_metric if you'd like to restore the old behavior.\n"
     ]
    },
    {
     "name": "stderr",
     "output_type": "stream",
     "text": [
      "C:\\Users\\ezequ\\anaconda3\\lib\\site-packages\\xgboost\\sklearn.py:888: UserWarning: The use of label encoder in XGBClassifier is deprecated and will be removed in a future release. To remove this warning, do the following: 1) Pass option use_label_encoder=False when constructing XGBClassifier object; and 2) Encode your labels (y) as integers starting with 0, i.e. 0, 1, 2, ..., [num_class - 1].\n",
      "  warnings.warn(label_encoder_deprecation_msg, UserWarning)\n"
     ]
    },
    {
     "name": "stdout",
     "output_type": "stream",
     "text": [
      "[01:25:34] WARNING: ..\\src\\learner.cc:1061: Starting in XGBoost 1.3.0, the default evaluation metric used with the objective 'multi:softprob' was changed from 'merror' to 'mlogloss'. Explicitly set eval_metric if you'd like to restore the old behavior.\n"
     ]
    },
    {
     "name": "stderr",
     "output_type": "stream",
     "text": [
      "C:\\Users\\ezequ\\anaconda3\\lib\\site-packages\\xgboost\\sklearn.py:888: UserWarning: The use of label encoder in XGBClassifier is deprecated and will be removed in a future release. To remove this warning, do the following: 1) Pass option use_label_encoder=False when constructing XGBClassifier object; and 2) Encode your labels (y) as integers starting with 0, i.e. 0, 1, 2, ..., [num_class - 1].\n",
      "  warnings.warn(label_encoder_deprecation_msg, UserWarning)\n"
     ]
    },
    {
     "name": "stdout",
     "output_type": "stream",
     "text": [
      "[01:28:44] WARNING: ..\\src\\learner.cc:1061: Starting in XGBoost 1.3.0, the default evaluation metric used with the objective 'multi:softprob' was changed from 'merror' to 'mlogloss'. Explicitly set eval_metric if you'd like to restore the old behavior.\n"
     ]
    },
    {
     "name": "stderr",
     "output_type": "stream",
     "text": [
      "C:\\Users\\ezequ\\anaconda3\\lib\\site-packages\\xgboost\\sklearn.py:888: UserWarning: The use of label encoder in XGBClassifier is deprecated and will be removed in a future release. To remove this warning, do the following: 1) Pass option use_label_encoder=False when constructing XGBClassifier object; and 2) Encode your labels (y) as integers starting with 0, i.e. 0, 1, 2, ..., [num_class - 1].\n",
      "  warnings.warn(label_encoder_deprecation_msg, UserWarning)\n"
     ]
    },
    {
     "name": "stdout",
     "output_type": "stream",
     "text": [
      "[01:31:54] WARNING: ..\\src\\learner.cc:1061: Starting in XGBoost 1.3.0, the default evaluation metric used with the objective 'multi:softprob' was changed from 'merror' to 'mlogloss'. Explicitly set eval_metric if you'd like to restore the old behavior.\n"
     ]
    },
    {
     "name": "stderr",
     "output_type": "stream",
     "text": [
      "C:\\Users\\ezequ\\anaconda3\\lib\\site-packages\\xgboost\\sklearn.py:888: UserWarning: The use of label encoder in XGBClassifier is deprecated and will be removed in a future release. To remove this warning, do the following: 1) Pass option use_label_encoder=False when constructing XGBClassifier object; and 2) Encode your labels (y) as integers starting with 0, i.e. 0, 1, 2, ..., [num_class - 1].\n",
      "  warnings.warn(label_encoder_deprecation_msg, UserWarning)\n"
     ]
    },
    {
     "name": "stdout",
     "output_type": "stream",
     "text": [
      "[01:35:02] WARNING: ..\\src\\learner.cc:1061: Starting in XGBoost 1.3.0, the default evaluation metric used with the objective 'multi:softprob' was changed from 'merror' to 'mlogloss'. Explicitly set eval_metric if you'd like to restore the old behavior.\n"
     ]
    },
    {
     "name": "stderr",
     "output_type": "stream",
     "text": [
      "C:\\Users\\ezequ\\anaconda3\\lib\\site-packages\\xgboost\\sklearn.py:888: UserWarning: The use of label encoder in XGBClassifier is deprecated and will be removed in a future release. To remove this warning, do the following: 1) Pass option use_label_encoder=False when constructing XGBClassifier object; and 2) Encode your labels (y) as integers starting with 0, i.e. 0, 1, 2, ..., [num_class - 1].\n",
      "  warnings.warn(label_encoder_deprecation_msg, UserWarning)\n"
     ]
    },
    {
     "name": "stdout",
     "output_type": "stream",
     "text": [
      "[01:37:14] WARNING: ..\\src\\learner.cc:1061: Starting in XGBoost 1.3.0, the default evaluation metric used with the objective 'multi:softprob' was changed from 'merror' to 'mlogloss'. Explicitly set eval_metric if you'd like to restore the old behavior.\n"
     ]
    },
    {
     "name": "stderr",
     "output_type": "stream",
     "text": [
      "C:\\Users\\ezequ\\anaconda3\\lib\\site-packages\\xgboost\\sklearn.py:888: UserWarning: The use of label encoder in XGBClassifier is deprecated and will be removed in a future release. To remove this warning, do the following: 1) Pass option use_label_encoder=False when constructing XGBClassifier object; and 2) Encode your labels (y) as integers starting with 0, i.e. 0, 1, 2, ..., [num_class - 1].\n",
      "  warnings.warn(label_encoder_deprecation_msg, UserWarning)\n"
     ]
    },
    {
     "name": "stdout",
     "output_type": "stream",
     "text": [
      "[01:39:28] WARNING: ..\\src\\learner.cc:1061: Starting in XGBoost 1.3.0, the default evaluation metric used with the objective 'multi:softprob' was changed from 'merror' to 'mlogloss'. Explicitly set eval_metric if you'd like to restore the old behavior.\n"
     ]
    },
    {
     "name": "stderr",
     "output_type": "stream",
     "text": [
      "C:\\Users\\ezequ\\anaconda3\\lib\\site-packages\\xgboost\\sklearn.py:888: UserWarning: The use of label encoder in XGBClassifier is deprecated and will be removed in a future release. To remove this warning, do the following: 1) Pass option use_label_encoder=False when constructing XGBClassifier object; and 2) Encode your labels (y) as integers starting with 0, i.e. 0, 1, 2, ..., [num_class - 1].\n",
      "  warnings.warn(label_encoder_deprecation_msg, UserWarning)\n"
     ]
    },
    {
     "name": "stdout",
     "output_type": "stream",
     "text": [
      "[01:41:55] WARNING: ..\\src\\learner.cc:1061: Starting in XGBoost 1.3.0, the default evaluation metric used with the objective 'multi:softprob' was changed from 'merror' to 'mlogloss'. Explicitly set eval_metric if you'd like to restore the old behavior.\n"
     ]
    },
    {
     "name": "stderr",
     "output_type": "stream",
     "text": [
      "C:\\Users\\ezequ\\anaconda3\\lib\\site-packages\\xgboost\\sklearn.py:888: UserWarning: The use of label encoder in XGBClassifier is deprecated and will be removed in a future release. To remove this warning, do the following: 1) Pass option use_label_encoder=False when constructing XGBClassifier object; and 2) Encode your labels (y) as integers starting with 0, i.e. 0, 1, 2, ..., [num_class - 1].\n",
      "  warnings.warn(label_encoder_deprecation_msg, UserWarning)\n"
     ]
    },
    {
     "name": "stdout",
     "output_type": "stream",
     "text": [
      "[01:45:16] WARNING: ..\\src\\learner.cc:1061: Starting in XGBoost 1.3.0, the default evaluation metric used with the objective 'multi:softprob' was changed from 'merror' to 'mlogloss'. Explicitly set eval_metric if you'd like to restore the old behavior.\n"
     ]
    },
    {
     "name": "stderr",
     "output_type": "stream",
     "text": [
      "C:\\Users\\ezequ\\anaconda3\\lib\\site-packages\\xgboost\\sklearn.py:888: UserWarning: The use of label encoder in XGBClassifier is deprecated and will be removed in a future release. To remove this warning, do the following: 1) Pass option use_label_encoder=False when constructing XGBClassifier object; and 2) Encode your labels (y) as integers starting with 0, i.e. 0, 1, 2, ..., [num_class - 1].\n",
      "  warnings.warn(label_encoder_deprecation_msg, UserWarning)\n"
     ]
    },
    {
     "name": "stdout",
     "output_type": "stream",
     "text": [
      "[01:48:03] WARNING: ..\\src\\learner.cc:1061: Starting in XGBoost 1.3.0, the default evaluation metric used with the objective 'multi:softprob' was changed from 'merror' to 'mlogloss'. Explicitly set eval_metric if you'd like to restore the old behavior.\n"
     ]
    },
    {
     "name": "stderr",
     "output_type": "stream",
     "text": [
      "C:\\Users\\ezequ\\anaconda3\\lib\\site-packages\\xgboost\\sklearn.py:888: UserWarning: The use of label encoder in XGBClassifier is deprecated and will be removed in a future release. To remove this warning, do the following: 1) Pass option use_label_encoder=False when constructing XGBClassifier object; and 2) Encode your labels (y) as integers starting with 0, i.e. 0, 1, 2, ..., [num_class - 1].\n",
      "  warnings.warn(label_encoder_deprecation_msg, UserWarning)\n"
     ]
    },
    {
     "name": "stdout",
     "output_type": "stream",
     "text": [
      "[01:50:51] WARNING: ..\\src\\learner.cc:1061: Starting in XGBoost 1.3.0, the default evaluation metric used with the objective 'multi:softprob' was changed from 'merror' to 'mlogloss'. Explicitly set eval_metric if you'd like to restore the old behavior.\n"
     ]
    },
    {
     "name": "stderr",
     "output_type": "stream",
     "text": [
      "C:\\Users\\ezequ\\anaconda3\\lib\\site-packages\\xgboost\\sklearn.py:888: UserWarning: The use of label encoder in XGBClassifier is deprecated and will be removed in a future release. To remove this warning, do the following: 1) Pass option use_label_encoder=False when constructing XGBClassifier object; and 2) Encode your labels (y) as integers starting with 0, i.e. 0, 1, 2, ..., [num_class - 1].\n",
      "  warnings.warn(label_encoder_deprecation_msg, UserWarning)\n"
     ]
    },
    {
     "name": "stdout",
     "output_type": "stream",
     "text": [
      "[02:00:23] WARNING: ..\\src\\learner.cc:1061: Starting in XGBoost 1.3.0, the default evaluation metric used with the objective 'multi:softprob' was changed from 'merror' to 'mlogloss'. Explicitly set eval_metric if you'd like to restore the old behavior.\n"
     ]
    },
    {
     "name": "stderr",
     "output_type": "stream",
     "text": [
      "C:\\Users\\ezequ\\anaconda3\\lib\\site-packages\\xgboost\\sklearn.py:888: UserWarning: The use of label encoder in XGBClassifier is deprecated and will be removed in a future release. To remove this warning, do the following: 1) Pass option use_label_encoder=False when constructing XGBClassifier object; and 2) Encode your labels (y) as integers starting with 0, i.e. 0, 1, 2, ..., [num_class - 1].\n",
      "  warnings.warn(label_encoder_deprecation_msg, UserWarning)\n"
     ]
    },
    {
     "name": "stdout",
     "output_type": "stream",
     "text": [
      "[02:09:44] WARNING: ..\\src\\learner.cc:1061: Starting in XGBoost 1.3.0, the default evaluation metric used with the objective 'multi:softprob' was changed from 'merror' to 'mlogloss'. Explicitly set eval_metric if you'd like to restore the old behavior.\n"
     ]
    },
    {
     "name": "stderr",
     "output_type": "stream",
     "text": [
      "C:\\Users\\ezequ\\anaconda3\\lib\\site-packages\\xgboost\\sklearn.py:888: UserWarning: The use of label encoder in XGBClassifier is deprecated and will be removed in a future release. To remove this warning, do the following: 1) Pass option use_label_encoder=False when constructing XGBClassifier object; and 2) Encode your labels (y) as integers starting with 0, i.e. 0, 1, 2, ..., [num_class - 1].\n",
      "  warnings.warn(label_encoder_deprecation_msg, UserWarning)\n"
     ]
    },
    {
     "name": "stdout",
     "output_type": "stream",
     "text": [
      "[02:19:06] WARNING: ..\\src\\learner.cc:1061: Starting in XGBoost 1.3.0, the default evaluation metric used with the objective 'multi:softprob' was changed from 'merror' to 'mlogloss'. Explicitly set eval_metric if you'd like to restore the old behavior.\n"
     ]
    },
    {
     "name": "stderr",
     "output_type": "stream",
     "text": [
      "C:\\Users\\ezequ\\anaconda3\\lib\\site-packages\\xgboost\\sklearn.py:888: UserWarning: The use of label encoder in XGBClassifier is deprecated and will be removed in a future release. To remove this warning, do the following: 1) Pass option use_label_encoder=False when constructing XGBClassifier object; and 2) Encode your labels (y) as integers starting with 0, i.e. 0, 1, 2, ..., [num_class - 1].\n",
      "  warnings.warn(label_encoder_deprecation_msg, UserWarning)\n"
     ]
    },
    {
     "name": "stdout",
     "output_type": "stream",
     "text": [
      "[02:26:16] WARNING: ..\\src\\learner.cc:1061: Starting in XGBoost 1.3.0, the default evaluation metric used with the objective 'multi:softprob' was changed from 'merror' to 'mlogloss'. Explicitly set eval_metric if you'd like to restore the old behavior.\n"
     ]
    },
    {
     "name": "stderr",
     "output_type": "stream",
     "text": [
      "C:\\Users\\ezequ\\anaconda3\\lib\\site-packages\\xgboost\\sklearn.py:888: UserWarning: The use of label encoder in XGBClassifier is deprecated and will be removed in a future release. To remove this warning, do the following: 1) Pass option use_label_encoder=False when constructing XGBClassifier object; and 2) Encode your labels (y) as integers starting with 0, i.e. 0, 1, 2, ..., [num_class - 1].\n",
      "  warnings.warn(label_encoder_deprecation_msg, UserWarning)\n"
     ]
    },
    {
     "name": "stdout",
     "output_type": "stream",
     "text": [
      "[02:33:24] WARNING: ..\\src\\learner.cc:1061: Starting in XGBoost 1.3.0, the default evaluation metric used with the objective 'multi:softprob' was changed from 'merror' to 'mlogloss'. Explicitly set eval_metric if you'd like to restore the old behavior.\n"
     ]
    },
    {
     "name": "stderr",
     "output_type": "stream",
     "text": [
      "C:\\Users\\ezequ\\anaconda3\\lib\\site-packages\\xgboost\\sklearn.py:888: UserWarning: The use of label encoder in XGBClassifier is deprecated and will be removed in a future release. To remove this warning, do the following: 1) Pass option use_label_encoder=False when constructing XGBClassifier object; and 2) Encode your labels (y) as integers starting with 0, i.e. 0, 1, 2, ..., [num_class - 1].\n",
      "  warnings.warn(label_encoder_deprecation_msg, UserWarning)\n"
     ]
    },
    {
     "name": "stdout",
     "output_type": "stream",
     "text": [
      "[02:40:35] WARNING: ..\\src\\learner.cc:1061: Starting in XGBoost 1.3.0, the default evaluation metric used with the objective 'multi:softprob' was changed from 'merror' to 'mlogloss'. Explicitly set eval_metric if you'd like to restore the old behavior.\n"
     ]
    },
    {
     "name": "stderr",
     "output_type": "stream",
     "text": [
      "C:\\Users\\ezequ\\anaconda3\\lib\\site-packages\\xgboost\\sklearn.py:888: UserWarning: The use of label encoder in XGBClassifier is deprecated and will be removed in a future release. To remove this warning, do the following: 1) Pass option use_label_encoder=False when constructing XGBClassifier object; and 2) Encode your labels (y) as integers starting with 0, i.e. 0, 1, 2, ..., [num_class - 1].\n",
      "  warnings.warn(label_encoder_deprecation_msg, UserWarning)\n"
     ]
    },
    {
     "name": "stdout",
     "output_type": "stream",
     "text": [
      "[02:41:40] WARNING: ..\\src\\learner.cc:1061: Starting in XGBoost 1.3.0, the default evaluation metric used with the objective 'multi:softprob' was changed from 'merror' to 'mlogloss'. Explicitly set eval_metric if you'd like to restore the old behavior.\n"
     ]
    },
    {
     "name": "stderr",
     "output_type": "stream",
     "text": [
      "C:\\Users\\ezequ\\anaconda3\\lib\\site-packages\\xgboost\\sklearn.py:888: UserWarning: The use of label encoder in XGBClassifier is deprecated and will be removed in a future release. To remove this warning, do the following: 1) Pass option use_label_encoder=False when constructing XGBClassifier object; and 2) Encode your labels (y) as integers starting with 0, i.e. 0, 1, 2, ..., [num_class - 1].\n",
      "  warnings.warn(label_encoder_deprecation_msg, UserWarning)\n"
     ]
    },
    {
     "name": "stdout",
     "output_type": "stream",
     "text": [
      "[02:42:45] WARNING: ..\\src\\learner.cc:1061: Starting in XGBoost 1.3.0, the default evaluation metric used with the objective 'multi:softprob' was changed from 'merror' to 'mlogloss'. Explicitly set eval_metric if you'd like to restore the old behavior.\n"
     ]
    },
    {
     "name": "stderr",
     "output_type": "stream",
     "text": [
      "C:\\Users\\ezequ\\anaconda3\\lib\\site-packages\\xgboost\\sklearn.py:888: UserWarning: The use of label encoder in XGBClassifier is deprecated and will be removed in a future release. To remove this warning, do the following: 1) Pass option use_label_encoder=False when constructing XGBClassifier object; and 2) Encode your labels (y) as integers starting with 0, i.e. 0, 1, 2, ..., [num_class - 1].\n",
      "  warnings.warn(label_encoder_deprecation_msg, UserWarning)\n"
     ]
    },
    {
     "name": "stdout",
     "output_type": "stream",
     "text": [
      "[02:43:50] WARNING: ..\\src\\learner.cc:1061: Starting in XGBoost 1.3.0, the default evaluation metric used with the objective 'multi:softprob' was changed from 'merror' to 'mlogloss'. Explicitly set eval_metric if you'd like to restore the old behavior.\n",
      "Wall time: 2h 16min 26s\n"
     ]
    },
    {
     "data": {
      "text/plain": [
       "RandomizedSearchCV(cv=KFold(n_splits=3, random_state=None, shuffle=True),\n",
       "                   estimator=XGBClassifier(base_score=None, booster=None,\n",
       "                                           colsample_bylevel=None,\n",
       "                                           colsample_bynode=None,\n",
       "                                           colsample_bytree=None, gamma=None,\n",
       "                                           gpu_id=None, importance_type='gain',\n",
       "                                           interaction_constraints=None,\n",
       "                                           learning_rate=None,\n",
       "                                           max_delta_step=None, max_depth=None,\n",
       "                                           min_child_weight=None, missing=...\n",
       "                                           scale_pos_weight=None,\n",
       "                                           subsample=None, tree_method=None,\n",
       "                                           validate_parameters=None,\n",
       "                                           verbosity=None),\n",
       "                   param_distributions={'colsample_bytree': [0, 0.3, 0.5, 0.7,\n",
       "                                                             1],\n",
       "                                        'gamma': [0, 0.5, 1, 1.5, 2, 5],\n",
       "                                        'learning_rate': [0.1, 0.05, 0.01],\n",
       "                                        'max_depth': [5, 10, 15, 20],\n",
       "                                        'min_child_weight': [1, 5, 10],\n",
       "                                        'n_estimators': [500, 600, 700],\n",
       "                                        'reg_lambda': [0, 1, 5, 10],\n",
       "                                        'subsample': [0.2, 0.4, 0.6, 0.8, 1]},\n",
       "                   scoring='f1_micro')"
      ]
     },
     "execution_count": 3,
     "metadata": {},
     "output_type": "execute_result"
    }
   ],
   "source": [
    "%%time\n",
    "\n",
    "clf=XGBClassifier()\n",
    "kf=KFold(n_splits=3,shuffle=True)\n",
    "rs=RandomizedSearchCV(clf,param_distributions=param,cv=kf,scoring='f1_micro')\n",
    "rs.fit(X,y)"
   ]
  },
  {
   "cell_type": "code",
   "execution_count": 4,
   "id": "80b91768-612c-4387-9541-d5a0dab59a20",
   "metadata": {},
   "outputs": [
    {
     "data": {
      "text/plain": [
       "{'subsample': 0.6,\n",
       " 'reg_lambda': 5,\n",
       " 'n_estimators': 500,\n",
       " 'min_child_weight': 1,\n",
       " 'max_depth': 15,\n",
       " 'learning_rate': 0.1,\n",
       " 'gamma': 0.5,\n",
       " 'colsample_bytree': 0.3}"
      ]
     },
     "execution_count": 4,
     "metadata": {},
     "output_type": "execute_result"
    }
   ],
   "source": [
    "rs.best_params_"
   ]
  },
  {
   "cell_type": "code",
   "execution_count": null,
   "id": "acb0a45a-46d6-425b-9d55-ec845d5b2ad0",
   "metadata": {},
   "outputs": [
    {
     "name": "stdout",
     "output_type": "stream",
     "text": [
      "[12:23:11] INFO: ..\\src\\tree\\updater_prune.cc:101: tree pruning end, 1274 extra nodes, 1236 pruned nodes, max_depth=15\n",
      "[12:23:11] INFO: ..\\src\\tree\\updater_prune.cc:101: tree pruning end, 1182 extra nodes, 1236 pruned nodes, max_depth=15\n",
      "[12:23:11] INFO: ..\\src\\tree\\updater_prune.cc:101: tree pruning end, 1256 extra nodes, 2132 pruned nodes, max_depth=15\n",
      "[12:23:11] INFO: ..\\src\\tree\\updater_prune.cc:101: tree pruning end, 268 extra nodes, 634 pruned nodes, max_depth=15\n",
      "[12:23:11] INFO: ..\\src\\tree\\updater_prune.cc:101: tree pruning end, 484 extra nodes, 1104 pruned nodes, max_depth=15\n",
      "[12:23:11] INFO: ..\\src\\tree\\updater_prune.cc:101: tree pruning end, 1742 extra nodes, 1698 pruned nodes, max_depth=15\n",
      "[12:23:11] INFO: ..\\src\\tree\\updater_prune.cc:101: tree pruning end, 608 extra nodes, 1178 pruned nodes, max_depth=15\n",
      "[12:23:12] INFO: ..\\src\\tree\\updater_prune.cc:101: tree pruning end, 4094 extra nodes, 2572 pruned nodes, max_depth=15\n",
      "[12:23:12] INFO: ..\\src\\tree\\updater_prune.cc:101: tree pruning end, 200 extra nodes, 614 pruned nodes, max_depth=13\n",
      "[12:23:12] INFO: ..\\src\\tree\\updater_prune.cc:101: tree pruning end, 162 extra nodes, 382 pruned nodes, max_depth=15\n",
      "[12:23:12] INFO: ..\\src\\tree\\updater_prune.cc:101: tree pruning end, 1052 extra nodes, 1194 pruned nodes, max_depth=15\n",
      "[12:23:12] INFO: ..\\src\\tree\\updater_prune.cc:101: tree pruning end, 222 extra nodes, 646 pruned nodes, max_depth=14\n",
      "[12:23:12] INFO: ..\\src\\tree\\updater_prune.cc:101: tree pruning end, 2184 extra nodes, 1742 pruned nodes, max_depth=15\n",
      "[12:23:13] INFO: ..\\src\\tree\\updater_prune.cc:101: tree pruning end, 1390 extra nodes, 1232 pruned nodes, max_depth=15\n",
      "[12:23:13] INFO: ..\\src\\tree\\updater_prune.cc:101: tree pruning end, 1982 extra nodes, 2038 pruned nodes, max_depth=15\n",
      "[12:23:13] INFO: ..\\src\\tree\\updater_prune.cc:101: tree pruning end, 398 extra nodes, 424 pruned nodes, max_depth=15\n",
      "[12:23:13] INFO: ..\\src\\tree\\updater_prune.cc:101: tree pruning end, 1846 extra nodes, 1654 pruned nodes, max_depth=15\n",
      "[12:23:13] INFO: ..\\src\\tree\\updater_prune.cc:101: tree pruning end, 986 extra nodes, 1970 pruned nodes, max_depth=15\n",
      "[12:23:14] INFO: ..\\src\\tree\\updater_prune.cc:101: tree pruning end, 982 extra nodes, 1642 pruned nodes, max_depth=15\n"
     ]
    },
    {
     "name": "stderr",
     "output_type": "stream",
     "text": [
      "Exception ignored on calling ctypes callback function: <function _log_callback at 0x000002177EE31550>\n",
      "Traceback (most recent call last):\n",
      "  File \"C:\\Users\\ezequ\\anaconda3\\lib\\site-packages\\xgboost\\core.py\", line 119, in _log_callback\n",
      "    def _log_callback(msg):\n",
      "KeyboardInterrupt: \n"
     ]
    },
    {
     "name": "stdout",
     "output_type": "stream",
     "text": [
      "[12:23:14] INFO: ..\\src\\tree\\updater_prune.cc:101: tree pruning end, 1110 extra nodes, 912 pruned nodes, max_depth=15\n",
      "[12:23:14] INFO: ..\\src\\tree\\updater_prune.cc:101: tree pruning end, 176 extra nodes, 530 pruned nodes, max_depth=15\n",
      "[12:23:14] INFO: ..\\src\\tree\\updater_prune.cc:101: tree pruning end, 344 extra nodes, 778 pruned nodes, max_depth=15\n",
      "[12:23:15] INFO: ..\\src\\tree\\updater_prune.cc:101: tree pruning end, 212 extra nodes, 610 pruned nodes, max_depth=15\n",
      "[12:23:15] INFO: ..\\src\\tree\\updater_prune.cc:101: tree pruning end, 512 extra nodes, 494 pruned nodes, max_depth=15\n",
      "[12:23:15] INFO: ..\\src\\tree\\updater_prune.cc:101: tree pruning end, 1160 extra nodes, 1196 pruned nodes, max_depth=15\n",
      "[12:23:15] INFO: ..\\src\\tree\\updater_prune.cc:101: tree pruning end, 3166 extra nodes, 2868 pruned nodes, max_depth=15\n",
      "[12:23:15] INFO: ..\\src\\tree\\updater_prune.cc:101: tree pruning end, 398 extra nodes, 956 pruned nodes, max_depth=15\n",
      "[12:23:15] INFO: ..\\src\\tree\\updater_prune.cc:101: tree pruning end, 920 extra nodes, 1680 pruned nodes, max_depth=15\n",
      "[12:23:16] INFO: ..\\src\\tree\\updater_prune.cc:101: tree pruning end, 718 extra nodes, 1312 pruned nodes, max_depth=15\n",
      "[12:23:16] INFO: ..\\src\\tree\\updater_prune.cc:101: tree pruning end, 644 extra nodes, 1330 pruned nodes, max_depth=15\n",
      "[12:23:16] INFO: ..\\src\\tree\\updater_prune.cc:101: tree pruning end, 966 extra nodes, 1900 pruned nodes, max_depth=15\n",
      "[12:23:16] INFO: ..\\src\\tree\\updater_prune.cc:101: tree pruning end, 3320 extra nodes, 2504 pruned nodes, max_depth=15\n",
      "[12:23:16] INFO: ..\\src\\tree\\updater_prune.cc:101: tree pruning end, 2284 extra nodes, 1916 pruned nodes, max_depth=15\n",
      "[12:23:16] INFO: ..\\src\\tree\\updater_prune.cc:101: tree pruning end, 442 extra nodes, 1252 pruned nodes, max_depth=15\n",
      "[12:23:17] INFO: ..\\src\\tree\\updater_prune.cc:101: tree pruning end, 580 extra nodes, 1146 pruned nodes, max_depth=15\n",
      "[12:23:17] INFO: ..\\src\\tree\\updater_prune.cc:101: tree pruning end, 718 extra nodes, 538 pruned nodes, max_depth=15\n",
      "[12:23:17] INFO: ..\\src\\tree\\updater_prune.cc:101: tree pruning end, 1098 extra nodes, 1254 pruned nodes, max_depth=15\n",
      "[12:23:17] INFO: ..\\src\\tree\\updater_prune.cc:101: tree pruning end, 744 extra nodes, 816 pruned nodes, max_depth=15\n",
      "[12:23:17] INFO: ..\\src\\tree\\updater_prune.cc:101: tree pruning end, 1022 extra nodes, 1120 pruned nodes, max_depth=15\n",
      "[12:23:17] INFO: ..\\src\\tree\\updater_prune.cc:101: tree pruning end, 650 extra nodes, 726 pruned nodes, max_depth=15\n",
      "[12:23:18] INFO: ..\\src\\tree\\updater_prune.cc:101: tree pruning end, 1724 extra nodes, 1690 pruned nodes, max_depth=15\n",
      "[12:23:18] INFO: ..\\src\\tree\\updater_prune.cc:101: tree pruning end, 2506 extra nodes, 2320 pruned nodes, max_depth=15\n",
      "[12:23:18] INFO: ..\\src\\tree\\updater_prune.cc:101: tree pruning end, 994 extra nodes, 1880 pruned nodes, max_depth=15\n",
      "[12:23:18] INFO: ..\\src\\tree\\updater_prune.cc:101: tree pruning end, 2394 extra nodes, 2144 pruned nodes, max_depth=15\n",
      "[12:23:18] INFO: ..\\src\\tree\\updater_prune.cc:101: tree pruning end, 2076 extra nodes, 1886 pruned nodes, max_depth=15\n",
      "[12:23:19] INFO: ..\\src\\tree\\updater_prune.cc:101: tree pruning end, 1120 extra nodes, 1042 pruned nodes, max_depth=15\n",
      "[12:23:19] INFO: ..\\src\\tree\\updater_prune.cc:101: tree pruning end, 756 extra nodes, 724 pruned nodes, max_depth=15\n",
      "[12:23:19] INFO: ..\\src\\tree\\updater_prune.cc:101: tree pruning end, 654 extra nodes, 604 pruned nodes, max_depth=15\n",
      "[12:23:19] INFO: ..\\src\\tree\\updater_prune.cc:101: tree pruning end, 954 extra nodes, 894 pruned nodes, max_depth=15\n",
      "[12:23:19] INFO: ..\\src\\tree\\updater_prune.cc:101: tree pruning end, 1894 extra nodes, 1946 pruned nodes, max_depth=15\n",
      "[12:23:19] INFO: ..\\src\\tree\\updater_prune.cc:101: tree pruning end, 348 extra nodes, 836 pruned nodes, max_depth=15\n",
      "[12:23:19] INFO: ..\\src\\tree\\updater_prune.cc:101: tree pruning end, 428 extra nodes, 1118 pruned nodes, max_depth=15\n",
      "[12:23:20] INFO: ..\\src\\tree\\updater_prune.cc:101: tree pruning end, 500 extra nodes, 1194 pruned nodes, max_depth=15\n",
      "[12:23:20] INFO: ..\\src\\tree\\updater_prune.cc:101: tree pruning end, 1692 extra nodes, 1664 pruned nodes, max_depth=15\n",
      "[12:23:20] INFO: ..\\src\\tree\\updater_prune.cc:101: tree pruning end, 1022 extra nodes, 982 pruned nodes, max_depth=15\n",
      "[12:23:20] INFO: ..\\src\\tree\\updater_prune.cc:101: tree pruning end, 570 extra nodes, 1244 pruned nodes, max_depth=15\n",
      "[12:23:20] INFO: ..\\src\\tree\\updater_prune.cc:101: tree pruning end, 430 extra nodes, 386 pruned nodes, max_depth=15\n",
      "[12:23:20] INFO: ..\\src\\tree\\updater_prune.cc:101: tree pruning end, 1218 extra nodes, 1028 pruned nodes, max_depth=15\n",
      "[12:23:21] INFO: ..\\src\\tree\\updater_prune.cc:101: tree pruning end, 1038 extra nodes, 944 pruned nodes, max_depth=15\n",
      "[12:23:21] INFO: ..\\src\\tree\\updater_prune.cc:101: tree pruning end, 136 extra nodes, 430 pruned nodes, max_depth=14\n",
      "[12:23:21] INFO: ..\\src\\tree\\updater_prune.cc:101: tree pruning end, 1534 extra nodes, 2506 pruned nodes, max_depth=15\n",
      "[12:23:21] INFO: ..\\src\\tree\\updater_prune.cc:101: tree pruning end, 1714 extra nodes, 1716 pruned nodes, max_depth=15\n",
      "[12:23:21] INFO: ..\\src\\tree\\updater_prune.cc:101: tree pruning end, 458 extra nodes, 1368 pruned nodes, max_depth=15\n",
      "[12:23:21] INFO: ..\\src\\tree\\updater_prune.cc:101: tree pruning end, 1584 extra nodes, 2686 pruned nodes, max_depth=15\n",
      "[12:23:22] INFO: ..\\src\\tree\\updater_prune.cc:101: tree pruning end, 1132 extra nodes, 1238 pruned nodes, max_depth=15\n",
      "[12:23:22] INFO: ..\\src\\tree\\updater_prune.cc:101: tree pruning end, 1274 extra nodes, 1398 pruned nodes, max_depth=15\n",
      "[12:23:22] INFO: ..\\src\\tree\\updater_prune.cc:101: tree pruning end, 1064 extra nodes, 982 pruned nodes, max_depth=15\n",
      "[12:23:22] INFO: ..\\src\\tree\\updater_prune.cc:101: tree pruning end, 788 extra nodes, 752 pruned nodes, max_depth=15\n",
      "[12:23:22] INFO: ..\\src\\tree\\updater_prune.cc:101: tree pruning end, 634 extra nodes, 1436 pruned nodes, max_depth=15\n",
      "[12:23:22] INFO: ..\\src\\tree\\updater_prune.cc:101: tree pruning end, 1114 extra nodes, 1310 pruned nodes, max_depth=15\n",
      "[12:23:23] INFO: ..\\src\\tree\\updater_prune.cc:101: tree pruning end, 2060 extra nodes, 1810 pruned nodes, max_depth=15\n",
      "[12:23:23] INFO: ..\\src\\tree\\updater_prune.cc:101: tree pruning end, 1924 extra nodes, 1966 pruned nodes, max_depth=15\n",
      "[12:23:23] INFO: ..\\src\\tree\\updater_prune.cc:101: tree pruning end, 2500 extra nodes, 2096 pruned nodes, max_depth=15\n",
      "[12:23:23] INFO: ..\\src\\tree\\updater_prune.cc:101: tree pruning end, 1892 extra nodes, 1690 pruned nodes, max_depth=15\n",
      "[12:23:23] INFO: ..\\src\\tree\\updater_prune.cc:101: tree pruning end, 1002 extra nodes, 1698 pruned nodes, max_depth=15\n",
      "[12:23:24] INFO: ..\\src\\tree\\updater_prune.cc:101: tree pruning end, 904 extra nodes, 976 pruned nodes, max_depth=15\n",
      "[12:23:24] INFO: ..\\src\\tree\\updater_prune.cc:101: tree pruning end, 422 extra nodes, 550 pruned nodes, max_depth=15\n",
      "[12:23:24] INFO: ..\\src\\tree\\updater_prune.cc:101: tree pruning end, 2200 extra nodes, 2088 pruned nodes, max_depth=15\n",
      "[12:23:24] INFO: ..\\src\\tree\\updater_prune.cc:101: tree pruning end, 870 extra nodes, 806 pruned nodes, max_depth=15\n",
      "[12:23:24] INFO: ..\\src\\tree\\updater_prune.cc:101: tree pruning end, 1062 extra nodes, 802 pruned nodes, max_depth=15\n",
      "[12:23:24] INFO: ..\\src\\tree\\updater_prune.cc:101: tree pruning end, 1314 extra nodes, 1118 pruned nodes, max_depth=15\n",
      "[12:23:25] INFO: ..\\src\\tree\\updater_prune.cc:101: tree pruning end, 1532 extra nodes, 1152 pruned nodes, max_depth=15\n",
      "[12:23:25] INFO: ..\\src\\tree\\updater_prune.cc:101: tree pruning end, 1062 extra nodes, 1868 pruned nodes, max_depth=15\n",
      "[12:23:25] INFO: ..\\src\\tree\\updater_prune.cc:101: tree pruning end, 280 extra nodes, 254 pruned nodes, max_depth=15\n",
      "[12:23:25] INFO: ..\\src\\tree\\updater_prune.cc:101: tree pruning end, 1352 extra nodes, 1068 pruned nodes, max_depth=15\n",
      "[12:23:25] INFO: ..\\src\\tree\\updater_prune.cc:101: tree pruning end, 162 extra nodes, 440 pruned nodes, max_depth=14\n",
      "[12:23:25] INFO: ..\\src\\tree\\updater_prune.cc:101: tree pruning end, 510 extra nodes, 490 pruned nodes, max_depth=15\n",
      "[12:23:26] INFO: ..\\src\\tree\\updater_prune.cc:101: tree pruning end, 1454 extra nodes, 1796 pruned nodes, max_depth=15\n",
      "[12:23:26] INFO: ..\\src\\tree\\updater_prune.cc:101: tree pruning end, 412 extra nodes, 836 pruned nodes, max_depth=15\n",
      "[12:23:26] INFO: ..\\src\\tree\\updater_prune.cc:101: tree pruning end, 358 extra nodes, 1486 pruned nodes, max_depth=15\n",
      "[12:23:26] INFO: ..\\src\\tree\\updater_prune.cc:101: tree pruning end, 642 extra nodes, 1092 pruned nodes, max_depth=15\n",
      "[12:23:26] INFO: ..\\src\\tree\\updater_prune.cc:101: tree pruning end, 1494 extra nodes, 1508 pruned nodes, max_depth=15\n",
      "[12:23:26] INFO: ..\\src\\tree\\updater_prune.cc:101: tree pruning end, 1204 extra nodes, 1226 pruned nodes, max_depth=15\n",
      "[12:23:27] INFO: ..\\src\\tree\\updater_prune.cc:101: tree pruning end, 1316 extra nodes, 2450 pruned nodes, max_depth=15\n",
      "[12:23:27] INFO: ..\\src\\tree\\updater_prune.cc:101: tree pruning end, 750 extra nodes, 572 pruned nodes, max_depth=15\n",
      "[12:23:27] INFO: ..\\src\\tree\\updater_prune.cc:101: tree pruning end, 448 extra nodes, 534 pruned nodes, max_depth=15\n",
      "[12:23:27] INFO: ..\\src\\tree\\updater_prune.cc:101: tree pruning end, 2216 extra nodes, 2074 pruned nodes, max_depth=15\n",
      "[12:23:27] INFO: ..\\src\\tree\\updater_prune.cc:101: tree pruning end, 1074 extra nodes, 844 pruned nodes, max_depth=15\n",
      "[12:23:27] INFO: ..\\src\\tree\\updater_prune.cc:101: tree pruning end, 894 extra nodes, 1712 pruned nodes, max_depth=15\n",
      "[12:23:27] INFO: ..\\src\\tree\\updater_prune.cc:101: tree pruning end, 900 extra nodes, 1212 pruned nodes, max_depth=15\n",
      "[12:23:28] INFO: ..\\src\\tree\\updater_prune.cc:101: tree pruning end, 404 extra nodes, 826 pruned nodes, max_depth=15\n",
      "[12:23:28] INFO: ..\\src\\tree\\updater_prune.cc:101: tree pruning end, 1174 extra nodes, 908 pruned nodes, max_depth=15\n",
      "[12:23:28] INFO: ..\\src\\tree\\updater_prune.cc:101: tree pruning end, 602 extra nodes, 712 pruned nodes, max_depth=15\n",
      "[12:23:28] INFO: ..\\src\\tree\\updater_prune.cc:101: tree pruning end, 4062 extra nodes, 2950 pruned nodes, max_depth=15\n",
      "[12:23:29] INFO: ..\\src\\tree\\updater_prune.cc:101: tree pruning end, 558 extra nodes, 770 pruned nodes, max_depth=15\n",
      "[12:23:29] INFO: ..\\src\\tree\\updater_prune.cc:101: tree pruning end, 486 extra nodes, 874 pruned nodes, max_depth=15\n",
      "[12:23:29] INFO: ..\\src\\tree\\updater_prune.cc:101: tree pruning end, 522 extra nodes, 592 pruned nodes, max_depth=15\n",
      "[12:23:29] INFO: ..\\src\\tree\\updater_prune.cc:101: tree pruning end, 1686 extra nodes, 2396 pruned nodes, max_depth=15\n",
      "[12:23:29] INFO: ..\\src\\tree\\updater_prune.cc:101: tree pruning end, 2028 extra nodes, 1360 pruned nodes, max_depth=15\n",
      "[12:23:29] INFO: ..\\src\\tree\\updater_prune.cc:101: tree pruning end, 2022 extra nodes, 1706 pruned nodes, max_depth=15\n",
      "[12:23:30] INFO: ..\\src\\tree\\updater_prune.cc:101: tree pruning end, 1082 extra nodes, 622 pruned nodes, max_depth=15\n",
      "[12:23:30] INFO: ..\\src\\tree\\updater_prune.cc:101: tree pruning end, 452 extra nodes, 466 pruned nodes, max_depth=15\n",
      "[12:23:30] INFO: ..\\src\\tree\\updater_prune.cc:101: tree pruning end, 1746 extra nodes, 1770 pruned nodes, max_depth=15\n",
      "[12:23:30] INFO: ..\\src\\tree\\updater_prune.cc:101: tree pruning end, 370 extra nodes, 752 pruned nodes, max_depth=15\n",
      "[12:23:30] INFO: ..\\src\\tree\\updater_prune.cc:101: tree pruning end, 1064 extra nodes, 1362 pruned nodes, max_depth=15\n",
      "[12:23:31] INFO: ..\\src\\tree\\updater_prune.cc:101: tree pruning end, 544 extra nodes, 710 pruned nodes, max_depth=15\n",
      "[12:23:31] INFO: ..\\src\\tree\\updater_prune.cc:101: tree pruning end, 696 extra nodes, 1804 pruned nodes, max_depth=15\n",
      "[12:23:31] INFO: ..\\src\\tree\\updater_prune.cc:101: tree pruning end, 462 extra nodes, 982 pruned nodes, max_depth=15\n",
      "[12:23:31] INFO: ..\\src\\tree\\updater_prune.cc:101: tree pruning end, 786 extra nodes, 588 pruned nodes, max_depth=15\n",
      "[12:23:31] INFO: ..\\src\\tree\\updater_prune.cc:101: tree pruning end, 130 extra nodes, 388 pruned nodes, max_depth=14\n",
      "[12:23:31] INFO: ..\\src\\tree\\updater_prune.cc:101: tree pruning end, 524 extra nodes, 566 pruned nodes, max_depth=15\n",
      "[12:23:31] INFO: ..\\src\\tree\\updater_prune.cc:101: tree pruning end, 2230 extra nodes, 2580 pruned nodes, max_depth=15\n",
      "[12:23:32] INFO: ..\\src\\tree\\updater_prune.cc:101: tree pruning end, 278 extra nodes, 676 pruned nodes, max_depth=15\n",
      "[12:23:32] INFO: ..\\src\\tree\\updater_prune.cc:101: tree pruning end, 1000 extra nodes, 1100 pruned nodes, max_depth=15\n",
      "[12:23:32] INFO: ..\\src\\tree\\updater_prune.cc:101: tree pruning end, 1228 extra nodes, 1140 pruned nodes, max_depth=15\n",
      "[12:23:32] INFO: ..\\src\\tree\\updater_prune.cc:101: tree pruning end, 424 extra nodes, 484 pruned nodes, max_depth=15\n",
      "[12:23:32] INFO: ..\\src\\tree\\updater_prune.cc:101: tree pruning end, 1076 extra nodes, 1720 pruned nodes, max_depth=15\n",
      "[12:23:32] INFO: ..\\src\\tree\\updater_prune.cc:101: tree pruning end, 312 extra nodes, 842 pruned nodes, max_depth=15\n",
      "[12:23:32] INFO: ..\\src\\tree\\updater_prune.cc:101: tree pruning end, 1578 extra nodes, 1900 pruned nodes, max_depth=15\n",
      "[12:23:33] INFO: ..\\src\\tree\\updater_prune.cc:101: tree pruning end, 1406 extra nodes, 1254 pruned nodes, max_depth=15\n",
      "[12:23:33] INFO: ..\\src\\tree\\updater_prune.cc:101: tree pruning end, 2062 extra nodes, 2162 pruned nodes, max_depth=15\n",
      "[12:23:33] INFO: ..\\src\\tree\\updater_prune.cc:101: tree pruning end, 128 extra nodes, 356 pruned nodes, max_depth=12\n",
      "[12:23:33] INFO: ..\\src\\tree\\updater_prune.cc:101: tree pruning end, 1548 extra nodes, 1268 pruned nodes, max_depth=15\n",
      "[12:23:33] INFO: ..\\src\\tree\\updater_prune.cc:101: tree pruning end, 1830 extra nodes, 1570 pruned nodes, max_depth=15\n",
      "[12:23:33] INFO: ..\\src\\tree\\updater_prune.cc:101: tree pruning end, 142 extra nodes, 440 pruned nodes, max_depth=15\n",
      "[12:23:34] INFO: ..\\src\\tree\\updater_prune.cc:101: tree pruning end, 658 extra nodes, 720 pruned nodes, max_depth=15\n",
      "[12:23:34] INFO: ..\\src\\tree\\updater_prune.cc:101: tree pruning end, 1436 extra nodes, 960 pruned nodes, max_depth=15\n",
      "[12:23:34] INFO: ..\\src\\tree\\updater_prune.cc:101: tree pruning end, 790 extra nodes, 932 pruned nodes, max_depth=15\n",
      "[12:23:34] INFO: ..\\src\\tree\\updater_prune.cc:101: tree pruning end, 360 extra nodes, 436 pruned nodes, max_depth=15\n",
      "[12:23:34] INFO: ..\\src\\tree\\updater_prune.cc:101: tree pruning end, 504 extra nodes, 966 pruned nodes, max_depth=15\n",
      "[12:23:34] INFO: ..\\src\\tree\\updater_prune.cc:101: tree pruning end, 1916 extra nodes, 1922 pruned nodes, max_depth=15\n",
      "[12:23:35] INFO: ..\\src\\tree\\updater_prune.cc:101: tree pruning end, 1680 extra nodes, 1820 pruned nodes, max_depth=15\n",
      "[12:23:35] INFO: ..\\src\\tree\\updater_prune.cc:101: tree pruning end, 1204 extra nodes, 1290 pruned nodes, max_depth=15\n",
      "[12:23:35] INFO: ..\\src\\tree\\updater_prune.cc:101: tree pruning end, 694 extra nodes, 558 pruned nodes, max_depth=15\n",
      "[12:23:35] INFO: ..\\src\\tree\\updater_prune.cc:101: tree pruning end, 484 extra nodes, 704 pruned nodes, max_depth=15\n",
      "[12:23:35] INFO: ..\\src\\tree\\updater_prune.cc:101: tree pruning end, 1114 extra nodes, 1060 pruned nodes, max_depth=15\n",
      "[12:23:35] INFO: ..\\src\\tree\\updater_prune.cc:101: tree pruning end, 2066 extra nodes, 1936 pruned nodes, max_depth=15\n",
      "[12:23:36] INFO: ..\\src\\tree\\updater_prune.cc:101: tree pruning end, 1174 extra nodes, 1098 pruned nodes, max_depth=15\n",
      "[12:23:36] INFO: ..\\src\\tree\\updater_prune.cc:101: tree pruning end, 706 extra nodes, 642 pruned nodes, max_depth=15\n",
      "[12:23:36] INFO: ..\\src\\tree\\updater_prune.cc:101: tree pruning end, 756 extra nodes, 700 pruned nodes, max_depth=15\n",
      "[12:23:36] INFO: ..\\src\\tree\\updater_prune.cc:101: tree pruning end, 840 extra nodes, 1188 pruned nodes, max_depth=15\n",
      "[12:23:36] INFO: ..\\src\\tree\\updater_prune.cc:101: tree pruning end, 180 extra nodes, 540 pruned nodes, max_depth=15\n",
      "[12:23:36] INFO: ..\\src\\tree\\updater_prune.cc:101: tree pruning end, 204 extra nodes, 654 pruned nodes, max_depth=15\n",
      "[12:23:37] INFO: ..\\src\\tree\\updater_prune.cc:101: tree pruning end, 654 extra nodes, 696 pruned nodes, max_depth=15\n",
      "[12:23:37] INFO: ..\\src\\tree\\updater_prune.cc:101: tree pruning end, 1164 extra nodes, 1988 pruned nodes, max_depth=15\n",
      "[12:23:37] INFO: ..\\src\\tree\\updater_prune.cc:101: tree pruning end, 1614 extra nodes, 1534 pruned nodes, max_depth=15\n",
      "[12:23:37] INFO: ..\\src\\tree\\updater_prune.cc:101: tree pruning end, 1434 extra nodes, 1932 pruned nodes, max_depth=15\n",
      "[12:23:37] INFO: ..\\src\\tree\\updater_prune.cc:101: tree pruning end, 1038 extra nodes, 1854 pruned nodes, max_depth=15\n",
      "[12:23:37] INFO: ..\\src\\tree\\updater_prune.cc:101: tree pruning end, 1414 extra nodes, 1414 pruned nodes, max_depth=15\n",
      "[12:23:38] INFO: ..\\src\\tree\\updater_prune.cc:101: tree pruning end, 986 extra nodes, 2026 pruned nodes, max_depth=15\n",
      "[12:23:38] INFO: ..\\src\\tree\\updater_prune.cc:101: tree pruning end, 1886 extra nodes, 1692 pruned nodes, max_depth=15\n",
      "[12:23:38] INFO: ..\\src\\tree\\updater_prune.cc:101: tree pruning end, 160 extra nodes, 614 pruned nodes, max_depth=15\n",
      "[12:23:38] INFO: ..\\src\\tree\\updater_prune.cc:101: tree pruning end, 1528 extra nodes, 1712 pruned nodes, max_depth=15\n",
      "[12:23:38] INFO: ..\\src\\tree\\updater_prune.cc:101: tree pruning end, 684 extra nodes, 1510 pruned nodes, max_depth=15\n",
      "[12:23:38] INFO: ..\\src\\tree\\updater_prune.cc:101: tree pruning end, 738 extra nodes, 784 pruned nodes, max_depth=15\n",
      "[12:23:38] INFO: ..\\src\\tree\\updater_prune.cc:101: tree pruning end, 922 extra nodes, 1100 pruned nodes, max_depth=15\n",
      "[12:23:39] INFO: ..\\src\\tree\\updater_prune.cc:101: tree pruning end, 1208 extra nodes, 1414 pruned nodes, max_depth=15\n",
      "[12:23:39] INFO: ..\\src\\tree\\updater_prune.cc:101: tree pruning end, 682 extra nodes, 672 pruned nodes, max_depth=15\n",
      "[12:23:39] INFO: ..\\src\\tree\\updater_prune.cc:101: tree pruning end, 342 extra nodes, 972 pruned nodes, max_depth=15\n",
      "[12:23:39] INFO: ..\\src\\tree\\updater_prune.cc:101: tree pruning end, 712 extra nodes, 578 pruned nodes, max_depth=15\n",
      "[12:23:39] INFO: ..\\src\\tree\\updater_prune.cc:101: tree pruning end, 1106 extra nodes, 1372 pruned nodes, max_depth=15\n",
      "[12:23:39] INFO: ..\\src\\tree\\updater_prune.cc:101: tree pruning end, 1086 extra nodes, 998 pruned nodes, max_depth=15\n",
      "[12:23:40] INFO: ..\\src\\tree\\updater_prune.cc:101: tree pruning end, 1728 extra nodes, 1502 pruned nodes, max_depth=15\n",
      "[12:23:40] INFO: ..\\src\\tree\\updater_prune.cc:101: tree pruning end, 790 extra nodes, 794 pruned nodes, max_depth=15\n",
      "[12:23:40] INFO: ..\\src\\tree\\updater_prune.cc:101: tree pruning end, 208 extra nodes, 430 pruned nodes, max_depth=15\n",
      "[12:23:40] INFO: ..\\src\\tree\\updater_prune.cc:101: tree pruning end, 1220 extra nodes, 744 pruned nodes, max_depth=15\n",
      "[12:23:40] INFO: ..\\src\\tree\\updater_prune.cc:101: tree pruning end, 438 extra nodes, 530 pruned nodes, max_depth=15\n",
      "[12:23:40] INFO: ..\\src\\tree\\updater_prune.cc:101: tree pruning end, 670 extra nodes, 1524 pruned nodes, max_depth=15\n",
      "[12:23:41] INFO: ..\\src\\tree\\updater_prune.cc:101: tree pruning end, 2112 extra nodes, 2136 pruned nodes, max_depth=15\n",
      "[12:23:41] INFO: ..\\src\\tree\\updater_prune.cc:101: tree pruning end, 308 extra nodes, 854 pruned nodes, max_depth=15\n",
      "[12:23:41] INFO: ..\\src\\tree\\updater_prune.cc:101: tree pruning end, 796 extra nodes, 864 pruned nodes, max_depth=15\n",
      "[12:23:41] INFO: ..\\src\\tree\\updater_prune.cc:101: tree pruning end, 3216 extra nodes, 3194 pruned nodes, max_depth=15\n",
      "[12:23:41] INFO: ..\\src\\tree\\updater_prune.cc:101: tree pruning end, 152 extra nodes, 554 pruned nodes, max_depth=15\n",
      "[12:23:41] INFO: ..\\src\\tree\\updater_prune.cc:101: tree pruning end, 1838 extra nodes, 1688 pruned nodes, max_depth=15\n",
      "[12:23:41] INFO: ..\\src\\tree\\updater_prune.cc:101: tree pruning end, 648 extra nodes, 738 pruned nodes, max_depth=15\n",
      "[12:23:42] INFO: ..\\src\\tree\\updater_prune.cc:101: tree pruning end, 1130 extra nodes, 1442 pruned nodes, max_depth=15\n",
      "[12:23:42] INFO: ..\\src\\tree\\updater_prune.cc:101: tree pruning end, 618 extra nodes, 1470 pruned nodes, max_depth=15\n",
      "[12:23:42] INFO: ..\\src\\tree\\updater_prune.cc:101: tree pruning end, 618 extra nodes, 1416 pruned nodes, max_depth=15\n",
      "[12:23:42] INFO: ..\\src\\tree\\updater_prune.cc:101: tree pruning end, 1238 extra nodes, 1242 pruned nodes, max_depth=15\n",
      "[12:23:42] INFO: ..\\src\\tree\\updater_prune.cc:101: tree pruning end, 1050 extra nodes, 908 pruned nodes, max_depth=15\n",
      "[12:23:42] INFO: ..\\src\\tree\\updater_prune.cc:101: tree pruning end, 410 extra nodes, 450 pruned nodes, max_depth=15\n",
      "[12:23:43] INFO: ..\\src\\tree\\updater_prune.cc:101: tree pruning end, 1110 extra nodes, 1432 pruned nodes, max_depth=15\n",
      "[12:23:43] INFO: ..\\src\\tree\\updater_prune.cc:101: tree pruning end, 1246 extra nodes, 1550 pruned nodes, max_depth=15\n",
      "[12:23:43] INFO: ..\\src\\tree\\updater_prune.cc:101: tree pruning end, 1170 extra nodes, 1536 pruned nodes, max_depth=15\n",
      "[12:23:43] INFO: ..\\src\\tree\\updater_prune.cc:101: tree pruning end, 1070 extra nodes, 1546 pruned nodes, max_depth=15\n",
      "[12:23:43] INFO: ..\\src\\tree\\updater_prune.cc:101: tree pruning end, 408 extra nodes, 490 pruned nodes, max_depth=15\n",
      "[12:23:43] INFO: ..\\src\\tree\\updater_prune.cc:101: tree pruning end, 1496 extra nodes, 1634 pruned nodes, max_depth=15\n",
      "[12:23:44] INFO: ..\\src\\tree\\updater_prune.cc:101: tree pruning end, 454 extra nodes, 508 pruned nodes, max_depth=15\n",
      "[12:23:44] INFO: ..\\src\\tree\\updater_prune.cc:101: tree pruning end, 1942 extra nodes, 1830 pruned nodes, max_depth=15\n",
      "[12:23:44] INFO: ..\\src\\tree\\updater_prune.cc:101: tree pruning end, 322 extra nodes, 800 pruned nodes, max_depth=15\n",
      "[12:23:44] INFO: ..\\src\\tree\\updater_prune.cc:101: tree pruning end, 598 extra nodes, 688 pruned nodes, max_depth=15\n",
      "[12:23:44] INFO: ..\\src\\tree\\updater_prune.cc:101: tree pruning end, 960 extra nodes, 1724 pruned nodes, max_depth=15\n",
      "[12:23:44] INFO: ..\\src\\tree\\updater_prune.cc:101: tree pruning end, 116 extra nodes, 470 pruned nodes, max_depth=14\n",
      "[12:23:45] INFO: ..\\src\\tree\\updater_prune.cc:101: tree pruning end, 222 extra nodes, 612 pruned nodes, max_depth=15\n",
      "[12:23:45] INFO: ..\\src\\tree\\updater_prune.cc:101: tree pruning end, 1216 extra nodes, 952 pruned nodes, max_depth=15\n",
      "[12:23:45] INFO: ..\\src\\tree\\updater_prune.cc:101: tree pruning end, 798 extra nodes, 762 pruned nodes, max_depth=15\n",
      "[12:23:45] INFO: ..\\src\\tree\\updater_prune.cc:101: tree pruning end, 1996 extra nodes, 2054 pruned nodes, max_depth=15\n",
      "[12:23:45] INFO: ..\\src\\tree\\updater_prune.cc:101: tree pruning end, 840 extra nodes, 952 pruned nodes, max_depth=15\n",
      "[12:23:46] INFO: ..\\src\\tree\\updater_prune.cc:101: tree pruning end, 1598 extra nodes, 2016 pruned nodes, max_depth=15\n",
      "[12:23:46] INFO: ..\\src\\tree\\updater_prune.cc:101: tree pruning end, 114 extra nodes, 514 pruned nodes, max_depth=14\n",
      "[12:23:46] INFO: ..\\src\\tree\\updater_prune.cc:101: tree pruning end, 752 extra nodes, 1456 pruned nodes, max_depth=15\n",
      "[12:23:46] INFO: ..\\src\\tree\\updater_prune.cc:101: tree pruning end, 1258 extra nodes, 1224 pruned nodes, max_depth=15\n",
      "[12:23:46] INFO: ..\\src\\tree\\updater_prune.cc:101: tree pruning end, 152 extra nodes, 644 pruned nodes, max_depth=15\n",
      "[12:23:46] INFO: ..\\src\\tree\\updater_prune.cc:101: tree pruning end, 932 extra nodes, 930 pruned nodes, max_depth=15\n",
      "[12:23:47] INFO: ..\\src\\tree\\updater_prune.cc:101: tree pruning end, 696 extra nodes, 792 pruned nodes, max_depth=15\n",
      "[12:23:47] INFO: ..\\src\\tree\\updater_prune.cc:101: tree pruning end, 752 extra nodes, 1076 pruned nodes, max_depth=15\n",
      "[12:23:47] INFO: ..\\src\\tree\\updater_prune.cc:101: tree pruning end, 1158 extra nodes, 1292 pruned nodes, max_depth=15\n",
      "[12:23:47] INFO: ..\\src\\tree\\updater_prune.cc:101: tree pruning end, 442 extra nodes, 1064 pruned nodes, max_depth=15\n",
      "[12:23:47] INFO: ..\\src\\tree\\updater_prune.cc:101: tree pruning end, 484 extra nodes, 1156 pruned nodes, max_depth=15\n",
      "[12:23:47] INFO: ..\\src\\tree\\updater_prune.cc:101: tree pruning end, 224 extra nodes, 438 pruned nodes, max_depth=15\n",
      "[12:23:47] INFO: ..\\src\\tree\\updater_prune.cc:101: tree pruning end, 1016 extra nodes, 1832 pruned nodes, max_depth=15\n",
      "[12:23:48] INFO: ..\\src\\tree\\updater_prune.cc:101: tree pruning end, 876 extra nodes, 1040 pruned nodes, max_depth=15\n",
      "[12:23:48] INFO: ..\\src\\tree\\updater_prune.cc:101: tree pruning end, 888 extra nodes, 964 pruned nodes, max_depth=15\n",
      "[12:23:48] INFO: ..\\src\\tree\\updater_prune.cc:101: tree pruning end, 1894 extra nodes, 2002 pruned nodes, max_depth=15\n",
      "[12:23:48] INFO: ..\\src\\tree\\updater_prune.cc:101: tree pruning end, 766 extra nodes, 892 pruned nodes, max_depth=15\n",
      "[12:23:48] INFO: ..\\src\\tree\\updater_prune.cc:101: tree pruning end, 2060 extra nodes, 1674 pruned nodes, max_depth=15\n",
      "[12:23:48] INFO: ..\\src\\tree\\updater_prune.cc:101: tree pruning end, 310 extra nodes, 390 pruned nodes, max_depth=15\n",
      "[12:23:49] INFO: ..\\src\\tree\\updater_prune.cc:101: tree pruning end, 500 extra nodes, 1098 pruned nodes, max_depth=15\n",
      "[12:23:49] INFO: ..\\src\\tree\\updater_prune.cc:101: tree pruning end, 194 extra nodes, 600 pruned nodes, max_depth=15\n",
      "[12:23:49] INFO: ..\\src\\tree\\updater_prune.cc:101: tree pruning end, 1354 extra nodes, 1894 pruned nodes, max_depth=15\n",
      "[12:23:49] INFO: ..\\src\\tree\\updater_prune.cc:101: tree pruning end, 494 extra nodes, 542 pruned nodes, max_depth=15\n",
      "[12:23:49] INFO: ..\\src\\tree\\updater_prune.cc:101: tree pruning end, 1062 extra nodes, 922 pruned nodes, max_depth=15\n",
      "[12:23:49] INFO: ..\\src\\tree\\updater_prune.cc:101: tree pruning end, 1308 extra nodes, 1250 pruned nodes, max_depth=15\n",
      "[12:23:50] INFO: ..\\src\\tree\\updater_prune.cc:101: tree pruning end, 966 extra nodes, 1920 pruned nodes, max_depth=15\n",
      "[12:23:50] INFO: ..\\src\\tree\\updater_prune.cc:101: tree pruning end, 248 extra nodes, 256 pruned nodes, max_depth=15\n",
      "[12:23:50] INFO: ..\\src\\tree\\updater_prune.cc:101: tree pruning end, 2294 extra nodes, 2250 pruned nodes, max_depth=15\n",
      "[12:23:50] INFO: ..\\src\\tree\\updater_prune.cc:101: tree pruning end, 764 extra nodes, 1328 pruned nodes, max_depth=15\n",
      "[12:23:50] INFO: ..\\src\\tree\\updater_prune.cc:101: tree pruning end, 470 extra nodes, 1364 pruned nodes, max_depth=15\n",
      "[12:23:50] INFO: ..\\src\\tree\\updater_prune.cc:101: tree pruning end, 1528 extra nodes, 1254 pruned nodes, max_depth=15\n",
      "[12:23:51] INFO: ..\\src\\tree\\updater_prune.cc:101: tree pruning end, 696 extra nodes, 1814 pruned nodes, max_depth=15\n",
      "[12:23:51] INFO: ..\\src\\tree\\updater_prune.cc:101: tree pruning end, 1304 extra nodes, 2288 pruned nodes, max_depth=15\n",
      "[12:23:51] INFO: ..\\src\\tree\\updater_prune.cc:101: tree pruning end, 1624 extra nodes, 1586 pruned nodes, max_depth=15\n",
      "[12:23:51] INFO: ..\\src\\tree\\updater_prune.cc:101: tree pruning end, 548 extra nodes, 418 pruned nodes, max_depth=15\n",
      "[12:23:51] INFO: ..\\src\\tree\\updater_prune.cc:101: tree pruning end, 896 extra nodes, 1100 pruned nodes, max_depth=15\n",
      "[12:23:51] INFO: ..\\src\\tree\\updater_prune.cc:101: tree pruning end, 952 extra nodes, 938 pruned nodes, max_depth=15\n",
      "[12:23:52] INFO: ..\\src\\tree\\updater_prune.cc:101: tree pruning end, 734 extra nodes, 612 pruned nodes, max_depth=15\n",
      "[12:23:52] INFO: ..\\src\\tree\\updater_prune.cc:101: tree pruning end, 958 extra nodes, 1952 pruned nodes, max_depth=15\n",
      "[12:23:52] INFO: ..\\src\\tree\\updater_prune.cc:101: tree pruning end, 1084 extra nodes, 792 pruned nodes, max_depth=15\n",
      "[12:23:52] INFO: ..\\src\\tree\\updater_prune.cc:101: tree pruning end, 1198 extra nodes, 1102 pruned nodes, max_depth=15\n",
      "[12:23:52] INFO: ..\\src\\tree\\updater_prune.cc:101: tree pruning end, 1346 extra nodes, 1122 pruned nodes, max_depth=15\n",
      "[12:23:52] INFO: ..\\src\\tree\\updater_prune.cc:101: tree pruning end, 1194 extra nodes, 2026 pruned nodes, max_depth=15\n",
      "[12:23:53] INFO: ..\\src\\tree\\updater_prune.cc:101: tree pruning end, 758 extra nodes, 656 pruned nodes, max_depth=15\n",
      "[12:23:53] INFO: ..\\src\\tree\\updater_prune.cc:101: tree pruning end, 766 extra nodes, 1236 pruned nodes, max_depth=15\n",
      "[12:23:53] INFO: ..\\src\\tree\\updater_prune.cc:101: tree pruning end, 582 extra nodes, 948 pruned nodes, max_depth=15\n",
      "[12:23:53] INFO: ..\\src\\tree\\updater_prune.cc:101: tree pruning end, 930 extra nodes, 1128 pruned nodes, max_depth=15\n",
      "[12:23:53] INFO: ..\\src\\tree\\updater_prune.cc:101: tree pruning end, 572 extra nodes, 1600 pruned nodes, max_depth=15\n",
      "[12:23:53] INFO: ..\\src\\tree\\updater_prune.cc:101: tree pruning end, 600 extra nodes, 1210 pruned nodes, max_depth=15\n",
      "[12:23:54] INFO: ..\\src\\tree\\updater_prune.cc:101: tree pruning end, 664 extra nodes, 938 pruned nodes, max_depth=15\n",
      "[12:23:54] INFO: ..\\src\\tree\\updater_prune.cc:101: tree pruning end, 960 extra nodes, 826 pruned nodes, max_depth=15\n",
      "[12:23:54] INFO: ..\\src\\tree\\updater_prune.cc:101: tree pruning end, 196 extra nodes, 424 pruned nodes, max_depth=15\n",
      "[12:23:54] INFO: ..\\src\\tree\\updater_prune.cc:101: tree pruning end, 454 extra nodes, 1082 pruned nodes, max_depth=15\n",
      "[12:23:54] INFO: ..\\src\\tree\\updater_prune.cc:101: tree pruning end, 1966 extra nodes, 1764 pruned nodes, max_depth=15\n",
      "[12:23:54] INFO: ..\\src\\tree\\updater_prune.cc:101: tree pruning end, 930 extra nodes, 1038 pruned nodes, max_depth=15\n",
      "[12:23:55] INFO: ..\\src\\tree\\updater_prune.cc:101: tree pruning end, 244 extra nodes, 614 pruned nodes, max_depth=15\n",
      "[12:23:55] INFO: ..\\src\\tree\\updater_prune.cc:101: tree pruning end, 1068 extra nodes, 1620 pruned nodes, max_depth=15\n",
      "[12:23:55] INFO: ..\\src\\tree\\updater_prune.cc:101: tree pruning end, 326 extra nodes, 866 pruned nodes, max_depth=15\n",
      "[12:23:55] INFO: ..\\src\\tree\\updater_prune.cc:101: tree pruning end, 1280 extra nodes, 1086 pruned nodes, max_depth=15\n",
      "[12:23:55] INFO: ..\\src\\tree\\updater_prune.cc:101: tree pruning end, 526 extra nodes, 638 pruned nodes, max_depth=15\n",
      "[12:23:55] INFO: ..\\src\\tree\\updater_prune.cc:101: tree pruning end, 900 extra nodes, 1814 pruned nodes, max_depth=15\n",
      "[12:23:56] INFO: ..\\src\\tree\\updater_prune.cc:101: tree pruning end, 966 extra nodes, 1040 pruned nodes, max_depth=15\n",
      "[12:23:56] INFO: ..\\src\\tree\\updater_prune.cc:101: tree pruning end, 490 extra nodes, 1244 pruned nodes, max_depth=15\n",
      "[12:23:56] INFO: ..\\src\\tree\\updater_prune.cc:101: tree pruning end, 1636 extra nodes, 1412 pruned nodes, max_depth=15\n",
      "[12:23:56] INFO: ..\\src\\tree\\updater_prune.cc:101: tree pruning end, 356 extra nodes, 440 pruned nodes, max_depth=15\n",
      "[12:23:56] INFO: ..\\src\\tree\\updater_prune.cc:101: tree pruning end, 356 extra nodes, 858 pruned nodes, max_depth=15\n",
      "[12:23:57] INFO: ..\\src\\tree\\updater_prune.cc:101: tree pruning end, 1098 extra nodes, 1592 pruned nodes, max_depth=15\n",
      "[12:23:57] INFO: ..\\src\\tree\\updater_prune.cc:101: tree pruning end, 556 extra nodes, 766 pruned nodes, max_depth=15\n",
      "[12:23:57] INFO: ..\\src\\tree\\updater_prune.cc:101: tree pruning end, 166 extra nodes, 526 pruned nodes, max_depth=15\n",
      "[12:23:57] INFO: ..\\src\\tree\\updater_prune.cc:101: tree pruning end, 320 extra nodes, 378 pruned nodes, max_depth=15\n",
      "[12:23:57] INFO: ..\\src\\tree\\updater_prune.cc:101: tree pruning end, 462 extra nodes, 550 pruned nodes, max_depth=15\n",
      "[12:23:57] INFO: ..\\src\\tree\\updater_prune.cc:101: tree pruning end, 588 extra nodes, 688 pruned nodes, max_depth=15\n",
      "[12:23:58] INFO: ..\\src\\tree\\updater_prune.cc:101: tree pruning end, 1054 extra nodes, 1196 pruned nodes, max_depth=15\n",
      "[12:23:58] INFO: ..\\src\\tree\\updater_prune.cc:101: tree pruning end, 990 extra nodes, 1128 pruned nodes, max_depth=15\n",
      "[12:23:58] INFO: ..\\src\\tree\\updater_prune.cc:101: tree pruning end, 784 extra nodes, 904 pruned nodes, max_depth=15\n",
      "[12:23:58] INFO: ..\\src\\tree\\updater_prune.cc:101: tree pruning end, 1280 extra nodes, 1096 pruned nodes, max_depth=15\n",
      "[12:23:58] INFO: ..\\src\\tree\\updater_prune.cc:101: tree pruning end, 1062 extra nodes, 1102 pruned nodes, max_depth=15\n",
      "[12:23:59] INFO: ..\\src\\tree\\updater_prune.cc:101: tree pruning end, 436 extra nodes, 582 pruned nodes, max_depth=15\n",
      "[12:23:59] INFO: ..\\src\\tree\\updater_prune.cc:101: tree pruning end, 1024 extra nodes, 1298 pruned nodes, max_depth=15\n"
     ]
    }
   ],
   "source": [
    "%%time\n",
    "\n",
    "clf=XGBClassifier(n_estimators= 500, max_depth= 15,learning_rate= 0.1, colsample_bytree= 0.3, gamma= 0.5, min_child_weight= 1, reg_lambda= 5, subsample= 0.6)\n",
    "clf.fit(X,y)"
   ]
  },
  {
   "cell_type": "code",
   "execution_count": 3,
   "id": "4725b375-1302-4892-b479-597057775992",
   "metadata": {},
   "outputs": [
    {
     "data": {
      "text/html": [
       "<div>\n",
       "<style scoped>\n",
       "    .dataframe tbody tr th:only-of-type {\n",
       "        vertical-align: middle;\n",
       "    }\n",
       "\n",
       "    .dataframe tbody tr th {\n",
       "        vertical-align: top;\n",
       "    }\n",
       "\n",
       "    .dataframe thead th {\n",
       "        text-align: right;\n",
       "    }\n",
       "</style>\n",
       "<table border=\"1\" class=\"dataframe\">\n",
       "  <thead>\n",
       "    <tr style=\"text-align: right;\">\n",
       "      <th></th>\n",
       "      <th>building_id</th>\n",
       "      <th>geo_level_1_id</th>\n",
       "      <th>geo_level_2_id</th>\n",
       "      <th>geo_level_3_id</th>\n",
       "      <th>count_floors_pre_eq</th>\n",
       "      <th>age</th>\n",
       "      <th>area_percentage</th>\n",
       "      <th>height_percentage</th>\n",
       "      <th>land_surface_condition</th>\n",
       "      <th>foundation_type</th>\n",
       "      <th>...</th>\n",
       "      <th>has_secondary_use_agriculture</th>\n",
       "      <th>has_secondary_use_hotel</th>\n",
       "      <th>has_secondary_use_rental</th>\n",
       "      <th>has_secondary_use_institution</th>\n",
       "      <th>has_secondary_use_school</th>\n",
       "      <th>has_secondary_use_industry</th>\n",
       "      <th>has_secondary_use_health_post</th>\n",
       "      <th>has_secondary_use_gov_office</th>\n",
       "      <th>has_secondary_use_use_police</th>\n",
       "      <th>has_secondary_use_other</th>\n",
       "    </tr>\n",
       "  </thead>\n",
       "  <tbody>\n",
       "    <tr>\n",
       "      <th>0</th>\n",
       "      <td>300051</td>\n",
       "      <td>17</td>\n",
       "      <td>596</td>\n",
       "      <td>11307</td>\n",
       "      <td>3</td>\n",
       "      <td>20</td>\n",
       "      <td>7</td>\n",
       "      <td>6</td>\n",
       "      <td>t</td>\n",
       "      <td>r</td>\n",
       "      <td>...</td>\n",
       "      <td>0</td>\n",
       "      <td>0</td>\n",
       "      <td>0</td>\n",
       "      <td>0</td>\n",
       "      <td>0</td>\n",
       "      <td>0</td>\n",
       "      <td>0</td>\n",
       "      <td>0</td>\n",
       "      <td>0</td>\n",
       "      <td>0</td>\n",
       "    </tr>\n",
       "    <tr>\n",
       "      <th>1</th>\n",
       "      <td>99355</td>\n",
       "      <td>6</td>\n",
       "      <td>141</td>\n",
       "      <td>11987</td>\n",
       "      <td>2</td>\n",
       "      <td>25</td>\n",
       "      <td>13</td>\n",
       "      <td>5</td>\n",
       "      <td>t</td>\n",
       "      <td>r</td>\n",
       "      <td>...</td>\n",
       "      <td>1</td>\n",
       "      <td>0</td>\n",
       "      <td>0</td>\n",
       "      <td>0</td>\n",
       "      <td>0</td>\n",
       "      <td>0</td>\n",
       "      <td>0</td>\n",
       "      <td>0</td>\n",
       "      <td>0</td>\n",
       "      <td>0</td>\n",
       "    </tr>\n",
       "    <tr>\n",
       "      <th>2</th>\n",
       "      <td>890251</td>\n",
       "      <td>22</td>\n",
       "      <td>19</td>\n",
       "      <td>10044</td>\n",
       "      <td>2</td>\n",
       "      <td>5</td>\n",
       "      <td>4</td>\n",
       "      <td>5</td>\n",
       "      <td>t</td>\n",
       "      <td>r</td>\n",
       "      <td>...</td>\n",
       "      <td>0</td>\n",
       "      <td>0</td>\n",
       "      <td>0</td>\n",
       "      <td>0</td>\n",
       "      <td>0</td>\n",
       "      <td>0</td>\n",
       "      <td>0</td>\n",
       "      <td>0</td>\n",
       "      <td>0</td>\n",
       "      <td>0</td>\n",
       "    </tr>\n",
       "    <tr>\n",
       "      <th>3</th>\n",
       "      <td>745817</td>\n",
       "      <td>26</td>\n",
       "      <td>39</td>\n",
       "      <td>633</td>\n",
       "      <td>1</td>\n",
       "      <td>0</td>\n",
       "      <td>19</td>\n",
       "      <td>3</td>\n",
       "      <td>t</td>\n",
       "      <td>r</td>\n",
       "      <td>...</td>\n",
       "      <td>0</td>\n",
       "      <td>0</td>\n",
       "      <td>1</td>\n",
       "      <td>0</td>\n",
       "      <td>0</td>\n",
       "      <td>0</td>\n",
       "      <td>0</td>\n",
       "      <td>0</td>\n",
       "      <td>0</td>\n",
       "      <td>0</td>\n",
       "    </tr>\n",
       "    <tr>\n",
       "      <th>4</th>\n",
       "      <td>421793</td>\n",
       "      <td>17</td>\n",
       "      <td>289</td>\n",
       "      <td>7970</td>\n",
       "      <td>3</td>\n",
       "      <td>15</td>\n",
       "      <td>8</td>\n",
       "      <td>7</td>\n",
       "      <td>t</td>\n",
       "      <td>r</td>\n",
       "      <td>...</td>\n",
       "      <td>0</td>\n",
       "      <td>0</td>\n",
       "      <td>0</td>\n",
       "      <td>0</td>\n",
       "      <td>0</td>\n",
       "      <td>0</td>\n",
       "      <td>0</td>\n",
       "      <td>0</td>\n",
       "      <td>0</td>\n",
       "      <td>0</td>\n",
       "    </tr>\n",
       "  </tbody>\n",
       "</table>\n",
       "<p>5 rows × 39 columns</p>\n",
       "</div>"
      ],
      "text/plain": [
       "   building_id  geo_level_1_id  geo_level_2_id  geo_level_3_id  \\\n",
       "0       300051              17             596           11307   \n",
       "1        99355               6             141           11987   \n",
       "2       890251              22              19           10044   \n",
       "3       745817              26              39             633   \n",
       "4       421793              17             289            7970   \n",
       "\n",
       "   count_floors_pre_eq  age  area_percentage  height_percentage  \\\n",
       "0                    3   20                7                  6   \n",
       "1                    2   25               13                  5   \n",
       "2                    2    5                4                  5   \n",
       "3                    1    0               19                  3   \n",
       "4                    3   15                8                  7   \n",
       "\n",
       "  land_surface_condition foundation_type  ... has_secondary_use_agriculture  \\\n",
       "0                      t               r  ...                             0   \n",
       "1                      t               r  ...                             1   \n",
       "2                      t               r  ...                             0   \n",
       "3                      t               r  ...                             0   \n",
       "4                      t               r  ...                             0   \n",
       "\n",
       "  has_secondary_use_hotel has_secondary_use_rental  \\\n",
       "0                       0                        0   \n",
       "1                       0                        0   \n",
       "2                       0                        0   \n",
       "3                       0                        1   \n",
       "4                       0                        0   \n",
       "\n",
       "  has_secondary_use_institution has_secondary_use_school  \\\n",
       "0                             0                        0   \n",
       "1                             0                        0   \n",
       "2                             0                        0   \n",
       "3                             0                        0   \n",
       "4                             0                        0   \n",
       "\n",
       "   has_secondary_use_industry  has_secondary_use_health_post  \\\n",
       "0                           0                              0   \n",
       "1                           0                              0   \n",
       "2                           0                              0   \n",
       "3                           0                              0   \n",
       "4                           0                              0   \n",
       "\n",
       "   has_secondary_use_gov_office  has_secondary_use_use_police  \\\n",
       "0                             0                             0   \n",
       "1                             0                             0   \n",
       "2                             0                             0   \n",
       "3                             0                             0   \n",
       "4                             0                             0   \n",
       "\n",
       "   has_secondary_use_other  \n",
       "0                        0  \n",
       "1                        0  \n",
       "2                        0  \n",
       "3                        0  \n",
       "4                        0  \n",
       "\n",
       "[5 rows x 39 columns]"
      ]
     },
     "execution_count": 3,
     "metadata": {},
     "output_type": "execute_result"
    }
   ],
   "source": [
    "X_test=pd.read_csv('Archivos de datos/test_values.csv')\n",
    "X_test.head()"
   ]
  },
  {
   "cell_type": "code",
   "execution_count": 4,
   "id": "42fa252f-250d-44d1-aded-83f49c72cceb",
   "metadata": {},
   "outputs": [],
   "source": [
    "prediction=clf.predict((pd.get_dummies(X_test)))\n",
    "result=pd.DataFrame(prediction)"
   ]
  },
  {
   "cell_type": "code",
   "execution_count": 5,
   "id": "43b82280-481d-4fc7-a75d-60e322ad0dc0",
   "metadata": {},
   "outputs": [
    {
     "data": {
      "text/html": [
       "<div>\n",
       "<style scoped>\n",
       "    .dataframe tbody tr th:only-of-type {\n",
       "        vertical-align: middle;\n",
       "    }\n",
       "\n",
       "    .dataframe tbody tr th {\n",
       "        vertical-align: top;\n",
       "    }\n",
       "\n",
       "    .dataframe thead th {\n",
       "        text-align: right;\n",
       "    }\n",
       "</style>\n",
       "<table border=\"1\" class=\"dataframe\">\n",
       "  <thead>\n",
       "    <tr style=\"text-align: right;\">\n",
       "      <th></th>\n",
       "      <th>building_id</th>\n",
       "      <th>damage_grade</th>\n",
       "    </tr>\n",
       "  </thead>\n",
       "  <tbody>\n",
       "    <tr>\n",
       "      <th>0</th>\n",
       "      <td>300051</td>\n",
       "      <td>3</td>\n",
       "    </tr>\n",
       "    <tr>\n",
       "      <th>1</th>\n",
       "      <td>99355</td>\n",
       "      <td>2</td>\n",
       "    </tr>\n",
       "    <tr>\n",
       "      <th>2</th>\n",
       "      <td>890251</td>\n",
       "      <td>2</td>\n",
       "    </tr>\n",
       "    <tr>\n",
       "      <th>3</th>\n",
       "      <td>745817</td>\n",
       "      <td>1</td>\n",
       "    </tr>\n",
       "    <tr>\n",
       "      <th>4</th>\n",
       "      <td>421793</td>\n",
       "      <td>3</td>\n",
       "    </tr>\n",
       "  </tbody>\n",
       "</table>\n",
       "</div>"
      ],
      "text/plain": [
       "   building_id  damage_grade\n",
       "0       300051             3\n",
       "1        99355             2\n",
       "2       890251             2\n",
       "3       745817             1\n",
       "4       421793             3"
      ]
     },
     "execution_count": 5,
     "metadata": {},
     "output_type": "execute_result"
    }
   ],
   "source": [
    "result['building_id']=X_test['building_id']\n",
    "result.rename(columns={0:'damage_grade'},inplace=True)\n",
    "result=result[['building_id','damage_grade']]\n",
    "result.head()"
   ]
  },
  {
   "cell_type": "code",
   "execution_count": 6,
   "id": "3120eb1b-d4bb-4fd4-8073-c66afad3c7b0",
   "metadata": {},
   "outputs": [],
   "source": [
    "result.to_csv('Archivos de datos/resultado.csv',index=False)"
   ]
  },
  {
   "cell_type": "code",
   "execution_count": null,
   "id": "d75d74b0-3a69-4c5b-8f46-0531585f246e",
   "metadata": {},
   "outputs": [],
   "source": []
  }
 ],
 "metadata": {
  "kernelspec": {
   "display_name": "Python 3",
   "language": "python",
   "name": "python3"
  },
  "language_info": {
   "codemirror_mode": {
    "name": "ipython",
    "version": 3
   },
   "file_extension": ".py",
   "mimetype": "text/x-python",
   "name": "python",
   "nbconvert_exporter": "python",
   "pygments_lexer": "ipython3",
   "version": "3.8.8"
  }
 },
 "nbformat": 4,
 "nbformat_minor": 5
}
