{
 "cells": [
  {
   "cell_type": "code",
   "execution_count": 1,
   "id": "402b0be8-2f93-4ae8-8f09-0f5b850a42d6",
   "metadata": {},
   "outputs": [],
   "source": [
    "import pandas as pd\n",
    "import numpy as np"
   ]
  },
  {
   "cell_type": "code",
   "execution_count": null,
   "id": "5bf7262c-a119-41bd-b2c1-9e5118724f50",
   "metadata": {},
   "outputs": [],
   "source": [
    "resultado_xgboost = pd.read_csv('Archivos de datos/xgboost_resultado.csv', encoding='latin-1')\n",
    "resultado_cat = pd.read_csv('Archivos de datos/catboost_resultado.csv', encoding='latin-1')\n",
    "#resultado_forest = pd.read_csv('Archivos de datos/resultado_ramdomforest.csv', encoding='latin-1')"
   ]
  },
  {
   "cell_type": "code",
   "execution_count": null,
   "id": "ac069c44-f8b5-4ca8-be6f-c80ecefa2abb",
   "metadata": {},
   "outputs": [],
   "source": []
  }
 ],
 "metadata": {
  "kernelspec": {
   "display_name": "Python 3",
   "language": "python",
   "name": "python3"
  },
  "language_info": {
   "codemirror_mode": {
    "name": "ipython",
    "version": 3
   },
   "file_extension": ".py",
   "mimetype": "text/x-python",
   "name": "python",
   "nbconvert_exporter": "python",
   "pygments_lexer": "ipython3",
   "version": "3.8.8"
  }
 },
 "nbformat": 4,
 "nbformat_minor": 5
}
